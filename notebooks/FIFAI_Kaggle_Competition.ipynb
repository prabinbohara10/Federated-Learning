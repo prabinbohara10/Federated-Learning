{
  "cells": [
    {
      "cell_type": "markdown",
      "metadata": {
        "id": "view-in-github",
        "colab_type": "text"
      },
      "source": [
        "<a href=\"https://colab.research.google.com/github/prabinbohara10/Federated-Learning/blob/main/notebooks/FIFAI_Kaggle_Competition.ipynb\" target=\"_parent\"><img src=\"https://colab.research.google.com/assets/colab-badge.svg\" alt=\"Open In Colab\"/></a>"
      ]
    },
    {
      "cell_type": "markdown",
      "metadata": {
        "id": "TgeIcJO_6cx5"
      },
      "source": [
        "# 🌟 Welcome to the FIFAI Summer Kaggle Competition! 🌟\n",
        "\n",
        "This Jupyter notebook is your main point of entry for the FIFAI Summer Kaggle Competition 🌞. Here, you'll have the chance to apply the skills you've learned over the past few days in a practical, competitive environment. This notebook contains everything you need to get started:\n",
        "\n",
        "- 📥 **Loading the Data**: Step-by-step instructions to load and preprocess the dataset.\n",
        "- 🏢 **Setting Up the Federated Learning Environment**: Guidance on how to set up and run federated learning experiments.\n",
        "- 📊 **Evaluation Metrics**: Tools to evaluate your models using various metrics.\n",
        "- 🧠 **Simple Models**: Starter code for basic models to kickstart your experimentation.\n",
        "- 📝 **Submission Files**: Code to help you generate and submit your results to Kaggle.\n",
        "\n",
        "Dive in, explore, and have fun! We can't wait to see the innovative solutions you'll come up with. Good luck, and may the best model win! 🚀\n"
      ]
    },
    {
      "cell_type": "markdown",
      "metadata": {
        "id": "YEg6aM9V39Kw"
      },
      "source": [
        "# Setup"
      ]
    },
    {
      "cell_type": "markdown",
      "metadata": {
        "id": "AuVNaNZUMPaV"
      },
      "source": [
        "The following libraries are required to run this notebook. If you are running this on Colab it should be all smooth sailing. If you are running it locally please make sure you have all of these installed (take a look at the readme file at the [repo](https://github.com/RISE-MICCAI/FIFAI-Summer-School-2024/tree/main/Day%203%20-%20FIFAI%20Kaggle%20competition) for instructions on how to do this with conda)."
      ]
    },
    {
      "cell_type": "code",
      "execution_count": 1,
      "metadata": {
        "id": "WKanyuPFDjlt"
      },
      "outputs": [],
      "source": [
        "import os\n",
        "import random\n",
        "import zipfile\n",
        "from collections import defaultdict\n",
        "\n",
        "from tqdm import tqdm\n",
        "import numpy as np\n",
        "import matplotlib.pyplot as plt\n",
        "import torch\n",
        "import torch.nn as nn\n",
        "import torch.nn.functional as F\n",
        "import torch.optim as optim\n",
        "import torch.utils.data as data\n",
        "from torch.utils.data import Dataset, DataLoader, Subset\n",
        "import torchvision.transforms as transforms\n",
        "\n",
        "from PIL import Image\n",
        "import pandas as pd\n",
        "\n",
        "from sklearn.metrics import roc_curve, auc\n",
        "from sklearn.metrics import confusion_matrix\n",
        "from sklearn.preprocessing import label_binarize\n",
        "import seaborn as sns"
      ]
    },
    {
      "cell_type": "code",
      "source": [
        "%pip install mlflow>=2.8.1\n",
        "import mlflow\n",
        "mlflow.set_experiment(\"FIFAI Kaagle Competition\")"
      ],
      "metadata": {
        "id": "E3bUGC25mhg8",
        "outputId": "687e1b89-813e-4c70-d531-a2ad40667578",
        "colab": {
          "base_uri": "https://localhost:8080/"
        }
      },
      "execution_count": 38,
      "outputs": [
        {
          "output_type": "stream",
          "name": "stderr",
          "text": [
            "2024/07/26 15:25:44 INFO mlflow.tracking.fluent: Experiment with name 'FIFAI Kaagle Competition' does not exist. Creating a new experiment.\n"
          ]
        },
        {
          "output_type": "execute_result",
          "data": {
            "text/plain": [
              "<Experiment: artifact_location='file:///content/mlruns/934907595951877537', creation_time=1722007544372, experiment_id='934907595951877537', last_update_time=1722007544372, lifecycle_stage='active', name='FIFAI Kaagle Competition', tags={}>"
            ]
          },
          "metadata": {},
          "execution_count": 38
        }
      ]
    },
    {
      "cell_type": "markdown",
      "metadata": {
        "id": "MxhO4N4MFF7q"
      },
      "source": [
        "# Dataloading"
      ]
    },
    {
      "cell_type": "markdown",
      "metadata": {
        "id": "jXWuhLGWxS_h"
      },
      "source": [
        "First thing we need to do is load in the data. We will be looking at the ChestMNIST dataset (a multi-label dataset from [MedMNIST](https://github.com/MedMNIST/MedMNIST)). This dataset looks at images of lungs that are healthy vs unhealthy for various diseases. We have taken a subset of this data and converted into a binary classification dataset. It consists of a training set with both images and labels and a test set with just images which you will use to make predictions and submit to Kaggle. Be sure to **download all** the files on the Kaggle site before proceeding with the next steps.\n",
        "\n",
        "\n",
        "\n"
      ]
    },
    {
      "cell_type": "markdown",
      "metadata": {
        "id": "I5sLkv9UinmV"
      },
      "source": [
        "### Using Colab (skip if running locally)\n",
        "The below is for use in a Colab notebook. Make a new folder called 'FIFAI_Kaggle' in your own Google Drive account. Simply upload everything into this 'FIFAI_Kaggle' folder. **NB** compress the images folder into a .zip file before uploading it otherwise it will take very long to upload. So upload 'images.zip', 'train.csv', 'test.csv', 'train_dataset.pkl' and 'test_dataset.pkl'. After that you can run the blocks of code below. First let's create a link to this new folder you created for ease of use."
      ]
    },
    {
      "cell_type": "code",
      "execution_count": 2,
      "metadata": {
        "colab": {
          "base_uri": "https://localhost:8080/"
        },
        "id": "aeVtsaROccV2",
        "outputId": "1a670f7c-b6a3-40b4-ea27-84635a192a81"
      },
      "outputs": [
        {
          "output_type": "stream",
          "name": "stdout",
          "text": [
            "Mounted at /content/drive\n"
          ]
        }
      ],
      "source": [
        "# mount drive and create symlink\n",
        "from google.colab import drive\n",
        "drive.mount('/content/drive')\n",
        "data_folder_name = 'FIFAI_Kaggle'\n",
        "# make sure to check if this is the correct directory for your Google account some people do not have a space in 'My Drive'\n",
        "!ln -s \"/content/drive/My Drive/FIFAI_Kaggle\" \"/content/FIFAI_Kaggle\" # NB when changing this"
      ]
    },
    {
      "cell_type": "markdown",
      "metadata": {
        "id": "k97KYnBJngLz"
      },
      "source": [
        "Unzip the images zip file. This should take about 2-3 mins. **Do not** run it again if you have already unzipped the folder. No need to run this block if you are running this locally."
      ]
    },
    {
      "cell_type": "code",
      "execution_count": null,
      "metadata": {
        "colab": {
          "base_uri": "https://localhost:8080/"
        },
        "id": "Sm6P_2x-l26R",
        "outputId": "63f4e9e0-64f6-4ea1-c3fc-925d0c2a70c1"
      },
      "outputs": [
        {
          "name": "stdout",
          "output_type": "stream",
          "text": [
            "Extracted all files to /content/FIFAI_Kaggle\n"
          ]
        }
      ],
      "source": [
        "# only run this once to unzip your files\n",
        "import zipfile\n",
        "import os\n",
        "\n",
        "def unzip_folder(folder_path, extract_to=None):\n",
        "    \"\"\"\n",
        "    Unzip the given folder.\n",
        "\n",
        "    Parameters:\n",
        "    folder_path (str): Path to the zipped folder.\n",
        "    extract_to (str): Directory to extract files to. Defaults to the same directory as the zipped folder.\n",
        "\n",
        "    Returns:\n",
        "    None\n",
        "    \"\"\"\n",
        "    if extract_to is None:\n",
        "        extract_to = os.path.dirname(folder_path)\n",
        "\n",
        "    with zipfile.ZipFile(folder_path, 'r') as zip_ref:\n",
        "        zip_ref.extractall(extract_to)\n",
        "    print(f'Extracted all files to {extract_to}')\n",
        "\n",
        "# Example usage:\n",
        "cwd = os.getcwd()\n",
        "unzip_folder(os.path.join(cwd,data_folder_name,'images.zip'), extract_to = os.path.join(cwd,data_folder_name))\n"
      ]
    },
    {
      "cell_type": "code",
      "execution_count": 3,
      "metadata": {
        "id": "hgs5RePXcpDG"
      },
      "outputs": [],
      "source": [
        "# data_folder_name = '/path_to_kaggle_files_on_local_dir' # uncomment and change this to the correct directory if running locally\n",
        "\n",
        "# if you are running this locally make sure you change these directories appropriately\n",
        "train_img_dir = os.path.join(data_folder_name, \"images\", \"train\")\n",
        "test_img_dir = os.path.join(data_folder_name, \"images\", \"test\")\n",
        "train_csv_path = os.path.join(data_folder_name,\"train.csv\")"
      ]
    },
    {
      "cell_type": "markdown",
      "metadata": {
        "id": "WaKKOs00n3Je"
      },
      "source": [
        "Now we define appropriate classes and functions to help with dataloading when training our models."
      ]
    },
    {
      "cell_type": "code",
      "execution_count": 4,
      "metadata": {
        "id": "18GCMUH6wDY1"
      },
      "outputs": [],
      "source": [
        "# Create a PyTorch Dataset\n",
        "class ChestMNISTDataset(Dataset):\n",
        "    \"\"\"\n",
        "    This class is used to turn our dataset into a PyTorch-supported dataset.\n",
        "\n",
        "    Parameters:\n",
        "    - images: The images array from the MedMNIST dataset.\n",
        "    - labels: The corresponding labels array for each image.\n",
        "    - transform: Optional transformation to be applied to the images.\n",
        "    \"\"\"\n",
        "    def __init__(self, images, labels, transform=None):\n",
        "        self.images = images\n",
        "        self.labels = labels\n",
        "        self.transform = transform\n",
        "\n",
        "    def __len__(self):\n",
        "        return len(self.images)\n",
        "\n",
        "    def __getitem__(self, idx):\n",
        "        image = self.images[idx]\n",
        "        label = torch.tensor(self.labels[idx])\n",
        "        if self.transform:\n",
        "            image = self.transform(image)\n",
        "        return image, label\n",
        "\n",
        "\n",
        "  # build dataset function which takes in Dataset class, img_directory and labels to generate the appropriate Dataset\n",
        "def build_train_dataset(img_dir, img2label, transform=None):\n",
        "    # run through img directory store images as np.array in images array. Simultaneously store labels in numpy array, using img2label. Then convert labels to tensor (or you can do this in the Dataset class).\n",
        "    print('---------- Building Training Dataset ----------')\n",
        "    # print('...')\n",
        "    images = []\n",
        "    labels = []\n",
        "    total_images = len(img2label)\n",
        "    step = total_images // 10  # 10% step\n",
        "\n",
        "    for i, img_fname in enumerate(img2label):\n",
        "        img_path = os.path.join(img_dir, img_fname)\n",
        "        img = np.array(Image.open(img_path))\n",
        "        label = img2label[img_fname]\n",
        "        images.append(img)\n",
        "        labels.append(label)\n",
        "\n",
        "        # Print progress\n",
        "        if (i + 1) % step == 0:\n",
        "            progress = (i + 1) // step * 10\n",
        "            print(f'{\"-\" * (progress // 10)} {progress}% complete')\n",
        "\n",
        "    print('---------- Finished Training Dataset ----------')\n",
        "    print()\n",
        "    return ChestMNISTDataset(images, labels, transform=transform)\n"
      ]
    },
    {
      "cell_type": "code",
      "source": [
        "train_df = pd.read_csv(train_csv_path)\n",
        "train_df"
      ],
      "metadata": {
        "colab": {
          "base_uri": "https://localhost:8080/",
          "height": 424
        },
        "id": "d-WGmlBQYTH3",
        "outputId": "961934eb-04df-4095-d3d4-4e0feb1b8793"
      },
      "execution_count": 5,
      "outputs": [
        {
          "output_type": "execute_result",
          "data": {
            "text/plain": [
              "                    ID  label\n",
              "0     image_000000.png      0\n",
              "1     image_000001.png      0\n",
              "2     image_000002.png      0\n",
              "3     image_000003.png      0\n",
              "4     image_000004.png      0\n",
              "...                ...    ...\n",
              "6270  image_006270.png      1\n",
              "6271  image_006271.png      1\n",
              "6272  image_006272.png      1\n",
              "6273  image_006273.png      1\n",
              "6274  image_006274.png      1\n",
              "\n",
              "[6275 rows x 2 columns]"
            ],
            "text/html": [
              "\n",
              "  <div id=\"df-0a693505-bdeb-4749-b5b9-a5fa7fc8f45d\" class=\"colab-df-container\">\n",
              "    <div>\n",
              "<style scoped>\n",
              "    .dataframe tbody tr th:only-of-type {\n",
              "        vertical-align: middle;\n",
              "    }\n",
              "\n",
              "    .dataframe tbody tr th {\n",
              "        vertical-align: top;\n",
              "    }\n",
              "\n",
              "    .dataframe thead th {\n",
              "        text-align: right;\n",
              "    }\n",
              "</style>\n",
              "<table border=\"1\" class=\"dataframe\">\n",
              "  <thead>\n",
              "    <tr style=\"text-align: right;\">\n",
              "      <th></th>\n",
              "      <th>ID</th>\n",
              "      <th>label</th>\n",
              "    </tr>\n",
              "  </thead>\n",
              "  <tbody>\n",
              "    <tr>\n",
              "      <th>0</th>\n",
              "      <td>image_000000.png</td>\n",
              "      <td>0</td>\n",
              "    </tr>\n",
              "    <tr>\n",
              "      <th>1</th>\n",
              "      <td>image_000001.png</td>\n",
              "      <td>0</td>\n",
              "    </tr>\n",
              "    <tr>\n",
              "      <th>2</th>\n",
              "      <td>image_000002.png</td>\n",
              "      <td>0</td>\n",
              "    </tr>\n",
              "    <tr>\n",
              "      <th>3</th>\n",
              "      <td>image_000003.png</td>\n",
              "      <td>0</td>\n",
              "    </tr>\n",
              "    <tr>\n",
              "      <th>4</th>\n",
              "      <td>image_000004.png</td>\n",
              "      <td>0</td>\n",
              "    </tr>\n",
              "    <tr>\n",
              "      <th>...</th>\n",
              "      <td>...</td>\n",
              "      <td>...</td>\n",
              "    </tr>\n",
              "    <tr>\n",
              "      <th>6270</th>\n",
              "      <td>image_006270.png</td>\n",
              "      <td>1</td>\n",
              "    </tr>\n",
              "    <tr>\n",
              "      <th>6271</th>\n",
              "      <td>image_006271.png</td>\n",
              "      <td>1</td>\n",
              "    </tr>\n",
              "    <tr>\n",
              "      <th>6272</th>\n",
              "      <td>image_006272.png</td>\n",
              "      <td>1</td>\n",
              "    </tr>\n",
              "    <tr>\n",
              "      <th>6273</th>\n",
              "      <td>image_006273.png</td>\n",
              "      <td>1</td>\n",
              "    </tr>\n",
              "    <tr>\n",
              "      <th>6274</th>\n",
              "      <td>image_006274.png</td>\n",
              "      <td>1</td>\n",
              "    </tr>\n",
              "  </tbody>\n",
              "</table>\n",
              "<p>6275 rows × 2 columns</p>\n",
              "</div>\n",
              "    <div class=\"colab-df-buttons\">\n",
              "\n",
              "  <div class=\"colab-df-container\">\n",
              "    <button class=\"colab-df-convert\" onclick=\"convertToInteractive('df-0a693505-bdeb-4749-b5b9-a5fa7fc8f45d')\"\n",
              "            title=\"Convert this dataframe to an interactive table.\"\n",
              "            style=\"display:none;\">\n",
              "\n",
              "  <svg xmlns=\"http://www.w3.org/2000/svg\" height=\"24px\" viewBox=\"0 -960 960 960\">\n",
              "    <path d=\"M120-120v-720h720v720H120Zm60-500h600v-160H180v160Zm220 220h160v-160H400v160Zm0 220h160v-160H400v160ZM180-400h160v-160H180v160Zm440 0h160v-160H620v160ZM180-180h160v-160H180v160Zm440 0h160v-160H620v160Z\"/>\n",
              "  </svg>\n",
              "    </button>\n",
              "\n",
              "  <style>\n",
              "    .colab-df-container {\n",
              "      display:flex;\n",
              "      gap: 12px;\n",
              "    }\n",
              "\n",
              "    .colab-df-convert {\n",
              "      background-color: #E8F0FE;\n",
              "      border: none;\n",
              "      border-radius: 50%;\n",
              "      cursor: pointer;\n",
              "      display: none;\n",
              "      fill: #1967D2;\n",
              "      height: 32px;\n",
              "      padding: 0 0 0 0;\n",
              "      width: 32px;\n",
              "    }\n",
              "\n",
              "    .colab-df-convert:hover {\n",
              "      background-color: #E2EBFA;\n",
              "      box-shadow: 0px 1px 2px rgba(60, 64, 67, 0.3), 0px 1px 3px 1px rgba(60, 64, 67, 0.15);\n",
              "      fill: #174EA6;\n",
              "    }\n",
              "\n",
              "    .colab-df-buttons div {\n",
              "      margin-bottom: 4px;\n",
              "    }\n",
              "\n",
              "    [theme=dark] .colab-df-convert {\n",
              "      background-color: #3B4455;\n",
              "      fill: #D2E3FC;\n",
              "    }\n",
              "\n",
              "    [theme=dark] .colab-df-convert:hover {\n",
              "      background-color: #434B5C;\n",
              "      box-shadow: 0px 1px 3px 1px rgba(0, 0, 0, 0.15);\n",
              "      filter: drop-shadow(0px 1px 2px rgba(0, 0, 0, 0.3));\n",
              "      fill: #FFFFFF;\n",
              "    }\n",
              "  </style>\n",
              "\n",
              "    <script>\n",
              "      const buttonEl =\n",
              "        document.querySelector('#df-0a693505-bdeb-4749-b5b9-a5fa7fc8f45d button.colab-df-convert');\n",
              "      buttonEl.style.display =\n",
              "        google.colab.kernel.accessAllowed ? 'block' : 'none';\n",
              "\n",
              "      async function convertToInteractive(key) {\n",
              "        const element = document.querySelector('#df-0a693505-bdeb-4749-b5b9-a5fa7fc8f45d');\n",
              "        const dataTable =\n",
              "          await google.colab.kernel.invokeFunction('convertToInteractive',\n",
              "                                                    [key], {});\n",
              "        if (!dataTable) return;\n",
              "\n",
              "        const docLinkHtml = 'Like what you see? Visit the ' +\n",
              "          '<a target=\"_blank\" href=https://colab.research.google.com/notebooks/data_table.ipynb>data table notebook</a>'\n",
              "          + ' to learn more about interactive tables.';\n",
              "        element.innerHTML = '';\n",
              "        dataTable['output_type'] = 'display_data';\n",
              "        await google.colab.output.renderOutput(dataTable, element);\n",
              "        const docLink = document.createElement('div');\n",
              "        docLink.innerHTML = docLinkHtml;\n",
              "        element.appendChild(docLink);\n",
              "      }\n",
              "    </script>\n",
              "  </div>\n",
              "\n",
              "\n",
              "<div id=\"df-f0cd5e01-3bf1-4293-86d7-64f46cbf618c\">\n",
              "  <button class=\"colab-df-quickchart\" onclick=\"quickchart('df-f0cd5e01-3bf1-4293-86d7-64f46cbf618c')\"\n",
              "            title=\"Suggest charts\"\n",
              "            style=\"display:none;\">\n",
              "\n",
              "<svg xmlns=\"http://www.w3.org/2000/svg\" height=\"24px\"viewBox=\"0 0 24 24\"\n",
              "     width=\"24px\">\n",
              "    <g>\n",
              "        <path d=\"M19 3H5c-1.1 0-2 .9-2 2v14c0 1.1.9 2 2 2h14c1.1 0 2-.9 2-2V5c0-1.1-.9-2-2-2zM9 17H7v-7h2v7zm4 0h-2V7h2v10zm4 0h-2v-4h2v4z\"/>\n",
              "    </g>\n",
              "</svg>\n",
              "  </button>\n",
              "\n",
              "<style>\n",
              "  .colab-df-quickchart {\n",
              "      --bg-color: #E8F0FE;\n",
              "      --fill-color: #1967D2;\n",
              "      --hover-bg-color: #E2EBFA;\n",
              "      --hover-fill-color: #174EA6;\n",
              "      --disabled-fill-color: #AAA;\n",
              "      --disabled-bg-color: #DDD;\n",
              "  }\n",
              "\n",
              "  [theme=dark] .colab-df-quickchart {\n",
              "      --bg-color: #3B4455;\n",
              "      --fill-color: #D2E3FC;\n",
              "      --hover-bg-color: #434B5C;\n",
              "      --hover-fill-color: #FFFFFF;\n",
              "      --disabled-bg-color: #3B4455;\n",
              "      --disabled-fill-color: #666;\n",
              "  }\n",
              "\n",
              "  .colab-df-quickchart {\n",
              "    background-color: var(--bg-color);\n",
              "    border: none;\n",
              "    border-radius: 50%;\n",
              "    cursor: pointer;\n",
              "    display: none;\n",
              "    fill: var(--fill-color);\n",
              "    height: 32px;\n",
              "    padding: 0;\n",
              "    width: 32px;\n",
              "  }\n",
              "\n",
              "  .colab-df-quickchart:hover {\n",
              "    background-color: var(--hover-bg-color);\n",
              "    box-shadow: 0 1px 2px rgba(60, 64, 67, 0.3), 0 1px 3px 1px rgba(60, 64, 67, 0.15);\n",
              "    fill: var(--button-hover-fill-color);\n",
              "  }\n",
              "\n",
              "  .colab-df-quickchart-complete:disabled,\n",
              "  .colab-df-quickchart-complete:disabled:hover {\n",
              "    background-color: var(--disabled-bg-color);\n",
              "    fill: var(--disabled-fill-color);\n",
              "    box-shadow: none;\n",
              "  }\n",
              "\n",
              "  .colab-df-spinner {\n",
              "    border: 2px solid var(--fill-color);\n",
              "    border-color: transparent;\n",
              "    border-bottom-color: var(--fill-color);\n",
              "    animation:\n",
              "      spin 1s steps(1) infinite;\n",
              "  }\n",
              "\n",
              "  @keyframes spin {\n",
              "    0% {\n",
              "      border-color: transparent;\n",
              "      border-bottom-color: var(--fill-color);\n",
              "      border-left-color: var(--fill-color);\n",
              "    }\n",
              "    20% {\n",
              "      border-color: transparent;\n",
              "      border-left-color: var(--fill-color);\n",
              "      border-top-color: var(--fill-color);\n",
              "    }\n",
              "    30% {\n",
              "      border-color: transparent;\n",
              "      border-left-color: var(--fill-color);\n",
              "      border-top-color: var(--fill-color);\n",
              "      border-right-color: var(--fill-color);\n",
              "    }\n",
              "    40% {\n",
              "      border-color: transparent;\n",
              "      border-right-color: var(--fill-color);\n",
              "      border-top-color: var(--fill-color);\n",
              "    }\n",
              "    60% {\n",
              "      border-color: transparent;\n",
              "      border-right-color: var(--fill-color);\n",
              "    }\n",
              "    80% {\n",
              "      border-color: transparent;\n",
              "      border-right-color: var(--fill-color);\n",
              "      border-bottom-color: var(--fill-color);\n",
              "    }\n",
              "    90% {\n",
              "      border-color: transparent;\n",
              "      border-bottom-color: var(--fill-color);\n",
              "    }\n",
              "  }\n",
              "</style>\n",
              "\n",
              "  <script>\n",
              "    async function quickchart(key) {\n",
              "      const quickchartButtonEl =\n",
              "        document.querySelector('#' + key + ' button');\n",
              "      quickchartButtonEl.disabled = true;  // To prevent multiple clicks.\n",
              "      quickchartButtonEl.classList.add('colab-df-spinner');\n",
              "      try {\n",
              "        const charts = await google.colab.kernel.invokeFunction(\n",
              "            'suggestCharts', [key], {});\n",
              "      } catch (error) {\n",
              "        console.error('Error during call to suggestCharts:', error);\n",
              "      }\n",
              "      quickchartButtonEl.classList.remove('colab-df-spinner');\n",
              "      quickchartButtonEl.classList.add('colab-df-quickchart-complete');\n",
              "    }\n",
              "    (() => {\n",
              "      let quickchartButtonEl =\n",
              "        document.querySelector('#df-f0cd5e01-3bf1-4293-86d7-64f46cbf618c button');\n",
              "      quickchartButtonEl.style.display =\n",
              "        google.colab.kernel.accessAllowed ? 'block' : 'none';\n",
              "    })();\n",
              "  </script>\n",
              "</div>\n",
              "\n",
              "  <div id=\"id_c0ee7ee0-af93-4f4d-90a4-5672c032dba9\">\n",
              "    <style>\n",
              "      .colab-df-generate {\n",
              "        background-color: #E8F0FE;\n",
              "        border: none;\n",
              "        border-radius: 50%;\n",
              "        cursor: pointer;\n",
              "        display: none;\n",
              "        fill: #1967D2;\n",
              "        height: 32px;\n",
              "        padding: 0 0 0 0;\n",
              "        width: 32px;\n",
              "      }\n",
              "\n",
              "      .colab-df-generate:hover {\n",
              "        background-color: #E2EBFA;\n",
              "        box-shadow: 0px 1px 2px rgba(60, 64, 67, 0.3), 0px 1px 3px 1px rgba(60, 64, 67, 0.15);\n",
              "        fill: #174EA6;\n",
              "      }\n",
              "\n",
              "      [theme=dark] .colab-df-generate {\n",
              "        background-color: #3B4455;\n",
              "        fill: #D2E3FC;\n",
              "      }\n",
              "\n",
              "      [theme=dark] .colab-df-generate:hover {\n",
              "        background-color: #434B5C;\n",
              "        box-shadow: 0px 1px 3px 1px rgba(0, 0, 0, 0.15);\n",
              "        filter: drop-shadow(0px 1px 2px rgba(0, 0, 0, 0.3));\n",
              "        fill: #FFFFFF;\n",
              "      }\n",
              "    </style>\n",
              "    <button class=\"colab-df-generate\" onclick=\"generateWithVariable('train_df')\"\n",
              "            title=\"Generate code using this dataframe.\"\n",
              "            style=\"display:none;\">\n",
              "\n",
              "  <svg xmlns=\"http://www.w3.org/2000/svg\" height=\"24px\"viewBox=\"0 0 24 24\"\n",
              "       width=\"24px\">\n",
              "    <path d=\"M7,19H8.4L18.45,9,17,7.55,7,17.6ZM5,21V16.75L18.45,3.32a2,2,0,0,1,2.83,0l1.4,1.43a1.91,1.91,0,0,1,.58,1.4,1.91,1.91,0,0,1-.58,1.4L9.25,21ZM18.45,9,17,7.55Zm-12,3A5.31,5.31,0,0,0,4.9,8.1,5.31,5.31,0,0,0,1,6.5,5.31,5.31,0,0,0,4.9,4.9,5.31,5.31,0,0,0,6.5,1,5.31,5.31,0,0,0,8.1,4.9,5.31,5.31,0,0,0,12,6.5,5.46,5.46,0,0,0,6.5,12Z\"/>\n",
              "  </svg>\n",
              "    </button>\n",
              "    <script>\n",
              "      (() => {\n",
              "      const buttonEl =\n",
              "        document.querySelector('#id_c0ee7ee0-af93-4f4d-90a4-5672c032dba9 button.colab-df-generate');\n",
              "      buttonEl.style.display =\n",
              "        google.colab.kernel.accessAllowed ? 'block' : 'none';\n",
              "\n",
              "      buttonEl.onclick = () => {\n",
              "        google.colab.notebook.generateWithVariable('train_df');\n",
              "      }\n",
              "      })();\n",
              "    </script>\n",
              "  </div>\n",
              "\n",
              "    </div>\n",
              "  </div>\n"
            ],
            "application/vnd.google.colaboratory.intrinsic+json": {
              "type": "dataframe",
              "variable_name": "train_df",
              "summary": "{\n  \"name\": \"train_df\",\n  \"rows\": 6275,\n  \"fields\": [\n    {\n      \"column\": \"ID\",\n      \"properties\": {\n        \"dtype\": \"string\",\n        \"num_unique_values\": 6275,\n        \"samples\": [\n          \"image_002792.png\",\n          \"image_003006.png\",\n          \"image_001536.png\"\n        ],\n        \"semantic_type\": \"\",\n        \"description\": \"\"\n      }\n    },\n    {\n      \"column\": \"label\",\n      \"properties\": {\n        \"dtype\": \"number\",\n        \"std\": 0,\n        \"min\": 0,\n        \"max\": 1,\n        \"num_unique_values\": 2,\n        \"samples\": [\n          1,\n          0\n        ],\n        \"semantic_type\": \"\",\n        \"description\": \"\"\n      }\n    }\n  ]\n}"
            }
          },
          "metadata": {},
          "execution_count": 5
        }
      ]
    },
    {
      "cell_type": "code",
      "execution_count": 6,
      "metadata": {
        "id": "a_4n9ziH22CN"
      },
      "outputs": [],
      "source": [
        "train_df = pd.read_csv(train_csv_path) # get the csv containing the labels for the training data\n",
        "img2label = {} # build a dictionary to help us associate each image with the appropriate label\n",
        "for i in range(len(train_df['ID'])):\n",
        "  img2label[train_df['ID'][i]] = train_df['label'][i]\n",
        "\n",
        "#img2label"
      ]
    },
    {
      "cell_type": "code",
      "execution_count": null,
      "metadata": {
        "colab": {
          "base_uri": "https://localhost:8080/"
        },
        "id": "9CdcixWp70yE",
        "outputId": "1cbfda55-7a59-4be1-de1e-867d94986abe"
      },
      "outputs": [
        {
          "name": "stdout",
          "output_type": "stream",
          "text": [
            "---------- Building Training Dataset ----------\n",
            "- 10% complete\n",
            "-- 20% complete\n",
            "--- 30% complete\n",
            "---- 40% complete\n",
            "----- 50% complete\n",
            "------ 60% complete\n",
            "------- 70% complete\n",
            "-------- 80% complete\n",
            "--------- 90% complete\n",
            "---------- 100% complete\n",
            "---------- Finished Training Dataset ----------\n",
            "\n"
          ]
        }
      ],
      "source": [
        "# set a seed DO NOT change this\n",
        "random.seed(42)\n",
        "np.random.seed(42)\n",
        "torch.manual_seed(42)\n",
        "\n",
        "# preprocessing (transforms we will apply to our images)\n",
        "data_transform = transforms.Compose([\n",
        "    transforms.ToTensor(),\n",
        "    transforms.Normalize(mean=[.5], std=[.5])\n",
        "])\n",
        "\n",
        "train_dataset = build_train_dataset(train_img_dir, img2label, transform = data_transform)"
      ]
    },
    {
      "cell_type": "markdown",
      "metadata": {
        "id": "HxM9JIbZIs-0"
      },
      "source": [
        "# Federated Learning"
      ]
    },
    {
      "cell_type": "markdown",
      "metadata": {
        "id": "HWhMT0MoIFLM"
      },
      "source": [
        "In this competition, we will be dealing with a specialised form of machine learning called *federated learning* which you should have heard a *little* bit about in the days prior. To do this we will simulate a federated learning setup right here in this notebook using some simple classes and functions. These were designed to be very easy to use so during the competition you will not need to change much in this setup. It works by having Client objects who will act as our nodes which we will train on locally, and a Server object which acts as our centralised server containing the global model. The aggregation strategy will be fixed here to **FedAvg** for simplicity.\n",
        "\n",
        "Quick reminder, the equation for **FedAvg** [1] is the following:\n",
        "\n",
        " $$w^{t+1} = \\dfrac{1}{n}\\sum_{k=1}^{K} w_{k}^{t+1}$$\n",
        "\n",
        "Each term represents:\n",
        "* $w^{t+1}$: Updated global model parameters after round $t$.\n",
        "* $n$: Total number of clients.\n",
        "* $w_{k}^{t+1}$: Updated model parameters from client $k$ after local training.\n",
        "\n",
        "When sending the model from the Server to the Client we will do a local average instead of overwriting the local model weights (with the global model) to preserve local structure in the local models at the respective Clients (take a look at 'send_with_local_ave' within the Server class)."
      ]
    },
    {
      "cell_type": "code",
      "execution_count": 7,
      "metadata": {
        "id": "tXEv9fbhFK1g"
      },
      "outputs": [],
      "source": [
        "import torch\n",
        "from torch.utils.data import DataLoader\n",
        "\n",
        "\n",
        "class Client:\n",
        "    \"\"\"\n",
        "    A class representing a client in a federated learning setup.\n",
        "\n",
        "    Attributes:\n",
        "    - device: The device on which the client's model and data will be loaded (CPU or CUDA).\n",
        "    - model: The initial model assigned to the client.\n",
        "    - data: The dataset assigned to the client.\n",
        "    - id: A unique identifier for the client.\n",
        "    \"\"\"\n",
        "    def __init__(self, initial_model, data, id):\n",
        "        self.device = torch.device(\"cuda\" if torch.cuda.is_available() else \"cpu\")\n",
        "        self.model = initial_model.to(self.device)\n",
        "        self.data = data\n",
        "        self.id = id\n",
        "\n",
        "    def get_model_params(self):\n",
        "        \"\"\"\n",
        "        Returns the state dictionary of the client's model.\n",
        "\n",
        "        Returns:\n",
        "        - state_dict: The state dictionary of the client's model.\n",
        "        \"\"\"\n",
        "        return self.model.state_dict()\n",
        "\n",
        "\n",
        "class Server:\n",
        "    \"\"\"\n",
        "    A class representing a central server in a federated learning setup.\n",
        "\n",
        "    Attributes:\n",
        "    - device: The device on which the server's global model will be loaded (CPU or CUDA).\n",
        "    - global_model: The global model maintained by the server.\n",
        "    - send_funcs: A dictionary mapping boolean flags to the corresponding send functions.\n",
        "    - send: The send function to be used (with or without local averaging) mimicking sending of weights from server to client.\n",
        "    \"\"\"\n",
        "    def __init__(self, model, local_weight_ave=True):\n",
        "        self.device = torch.device(\"cuda\" if torch.cuda.is_available() else \"cpu\")\n",
        "        self.global_model = model.to(self.device)\n",
        "        self.send_funcs = {\n",
        "            True: self.send_with_local_ave,\n",
        "            False: self.send_without_local_ave\n",
        "        }\n",
        "        self.send = self.send_funcs[local_weight_ave]\n",
        "\n",
        "    def send_without_local_ave(self, client):\n",
        "        \"\"\"\n",
        "        Sends the global model to the client without local averaging.\n",
        "\n",
        "        Parameters:\n",
        "        - client: The client to which the global model will be sent.\n",
        "        \"\"\"\n",
        "        client.model.load_state_dict(self.global_model.state_dict())\n",
        "        print(f\"Sent model to Client {client.id}\")\n",
        "\n",
        "    def send_with_local_ave(self, client):\n",
        "        \"\"\"\n",
        "        Sends the global model to the client with local averaging.\n",
        "\n",
        "        Parameters:\n",
        "        - client: The client to which the averaged model will be sent.\n",
        "        \"\"\"\n",
        "        global_params = self.global_model.state_dict()\n",
        "        local_params = client.get_model_params()\n",
        "        averaged_params = {key: (global_params[key] + local_params[key]) / 2 for key in global_params.keys()}\n",
        "        client.model.load_state_dict(averaged_params)\n",
        "        print(f\"Sent model to Client {client.id}\")\n",
        "\n",
        "    def train(self, clients, gen_optimizer, loss_fn, num_epochs, batch_size=8, shuffle=True, lr=0.01):\n",
        "        \"\"\"\n",
        "        Trains the global model using data from multiple clients.\n",
        "\n",
        "        Parameters:\n",
        "        - clients: A list of Client objects.\n",
        "        - gen_optimizer: The optimizer generator function (basically a wrapper of a PyTorch optimiser object).\n",
        "        - loss_fn: The loss function to be used for training.\n",
        "        - num_epochs: The number of epochs for training.\n",
        "        - batch_size: The batch size for data loading (default is 8).\n",
        "        - shuffle: Whether to shuffle the data (default is True).\n",
        "        - lr: Learning rate for the optimizer (default is 0.01).\n",
        "        \"\"\"\n",
        "        client_weights = []\n",
        "        for client in clients:\n",
        "            self.send(client)\n",
        "            data_loader = DataLoader(client.data, batch_size=batch_size, shuffle=shuffle)\n",
        "            optimizer = gen_optimizer(params=client.model.parameters(), lr=lr)\n",
        "            client.model.train()\n",
        "            print(f'Begin local training at Client {client.id}')\n",
        "            for epoch in range(num_epochs):\n",
        "                losses = []\n",
        "                for data, target in data_loader:\n",
        "                    data, target = data.to(self.device), target.to(self.device)\n",
        "                    optimizer.zero_grad()\n",
        "                    # print(f\"loaded data\")\n",
        "                    output = client.model(data)\n",
        "                    loss = loss_fn(output, target)\n",
        "                    loss.backward()\n",
        "                    optimizer.step()\n",
        "                    losses.append(loss.clone().detach())\n",
        "                ave_loss = torch.mean(torch.tensor(losses))\n",
        "                print(f'Training loss, running average over batches, at end of epoch {epoch} is {ave_loss}')\n",
        "            print(f'End of local training at Client {client.id}')\n",
        "            client_weights.append(client.get_model_params())\n",
        "            print('------------------------------------------------------------------')\n",
        "\n",
        "        avg_model_params = self.aggregate_weights(client_weights)\n",
        "        self.global_model.load_state_dict(avg_model_params)\n",
        "\n",
        "    def aggregate_weights(self, client_weights):\n",
        "        \"\"\"\n",
        "        Aggregates the weights from multiple clients using simple averaging.\n",
        "\n",
        "        Parameters:\n",
        "        - client_weights: A list of state dictionaries from clients.\n",
        "\n",
        "        Returns:\n",
        "        - avg_params: The averaged state dictionary.\n",
        "        \"\"\"\n",
        "        avg_params = {key: torch.zeros_like(param) for key, param in client_weights[0].items()}\n",
        "        for params in client_weights:\n",
        "            for key in params.keys():\n",
        "                avg_params[key] += params[key] / len(client_weights)\n",
        "        return avg_params\n",
        "\n",
        "    # need a nice test function here that incorporates all of your \"FAIR\" metrics\n",
        "    # def test(self, validation_dataset, batch_size=64, device=None):\n",
        "\n",
        "\n",
        "def setup_federated_simulation_env(model, client_names, dataset, data_weights, local_weight_ave=True):\n",
        "    \"\"\"\n",
        "    Sets up the federated learning simulation environment.\n",
        "\n",
        "    Parameters:\n",
        "    - model: The initial global model.\n",
        "    - client_names: A list of names for the clients.\n",
        "    - dataset: The dataset to be split among the clients.\n",
        "    - data_weights: A list of weights specifying the proportion of data for each client.\n",
        "    - local_weight_ave: A boolean flag indicating whether to use local weight averaging (default is True).\n",
        "\n",
        "    Returns:\n",
        "    - central_server: The Server object.\n",
        "    - clients: A list of Client objects.\n",
        "    \"\"\"\n",
        "    print('---------- Setting up Federating Learning Environment ----------')\n",
        "    print('...')\n",
        "    central_server = Server(model, local_weight_ave=local_weight_ave)\n",
        "    if len(client_names) != len(data_weights):\n",
        "        raise ValueError(\"Number of clients does not match proposed data splitting given data weights.\")\n",
        "    subset_datasets = split_dataset(dataset, data_weights)\n",
        "    clients = [Client(model, subset_dataset, client_name) for client_name, subset_dataset in zip(client_names, subset_datasets)]\n",
        "    print('---------- Finished Setting up Federating Learning Environment ----------')\n",
        "    print()\n",
        "    return central_server, clients\n",
        "\n",
        "\n",
        "\n",
        "# helper function to split the datasets\n",
        "import numpy as np\n",
        "from torch.utils.data import Subset\n",
        "\n",
        "def split_dataset(dataset, data_weights):\n",
        "    \"\"\"\n",
        "    Splits a dataset into multiple subsets according to specified weights.\n",
        "\n",
        "    Parameters:\n",
        "    - dataset: The original dataset to be split.\n",
        "    - data_weights: A list of weights specifying the proportion of each subset.\n",
        "                    The sum of data_weights should be 1.\n",
        "\n",
        "    Returns:\n",
        "    - A list of dataset objects, each corresponding to a subset of the original dataset.\n",
        "    \"\"\"\n",
        "    if not np.isclose(np.sum(data_weights), 1):\n",
        "      raise ValueError('Invalid data_weights, do not sum to 1.')\n",
        "    total_samples = len(dataset)\n",
        "    indices = np.arange(total_samples)\n",
        "    np.random.shuffle(indices)\n",
        "\n",
        "    split_indices = []\n",
        "    current_idx = 0\n",
        "    for weight in data_weights:\n",
        "        split_size = int(np.floor(weight * total_samples))\n",
        "        split_indices.append(indices[current_idx:current_idx + split_size])\n",
        "        current_idx += split_size\n",
        "\n",
        "    # Ensure that all samples are included (add the remaining samples to the last subset)\n",
        "    if current_idx < total_samples:\n",
        "        split_indices[-1] = np.concatenate((split_indices[-1], indices[current_idx:]), axis=0)\n",
        "\n",
        "    # Create the subset datasets\n",
        "    subset_datasets = [Subset(dataset, indices) for indices in split_indices]\n",
        "\n",
        "    return subset_datasets"
      ]
    },
    {
      "cell_type": "markdown",
      "metadata": {
        "id": "A7lC0AiVAfc1"
      },
      "source": [
        "The Federated setup is designed such that the only \"things\" to vary is the model, the optimiser and the loss function. When we eventually get to the training run it will be clear how to do this but before that let's define some basic models to use."
      ]
    },
    {
      "cell_type": "markdown",
      "metadata": {
        "id": "xE0OvVUXp9SD"
      },
      "source": [
        "Here we have included some very simple models that you can start off with."
      ]
    },
    {
      "cell_type": "code",
      "execution_count": 8,
      "metadata": {
        "id": "YpG4hhwaBHwU"
      },
      "outputs": [],
      "source": [
        "import torch.nn as nn\n",
        "import torch.nn.functional as F\n",
        "\n",
        "# simple MLP\n",
        "class SimpleMLP(nn.Module):\n",
        "    def __init__(self, input_dim=28*28*1, hidden_dim=128, output_dim=2):\n",
        "        super(SimpleMLP, self).__init__()\n",
        "        self.fc1 = nn.Linear(input_dim, hidden_dim)\n",
        "        self.fc2 = nn.Linear(hidden_dim, output_dim)\n",
        "\n",
        "    def forward(self, x):\n",
        "        x = x.view(x.size(0), -1)  # Flatten the input tensor\n",
        "        x = F.relu(self.fc1(x))\n",
        "        out = self.fc2(x)\n",
        "        return out\n",
        "\n",
        "# Logistic Regression\n",
        "class LogisticRegressor(nn.Module):\n",
        "    def __init__(self, input_dim=28*28*1, output_dim=2):\n",
        "        super(LogisticRegressor, self).__init__()\n",
        "        self.fc = nn.Linear(input_dim, output_dim)\n",
        "\n",
        "    def forward(self, x):\n",
        "        x = x.view(x.size(0), -1)  # Flatten the input tensor\n",
        "        out = self.fc(x)\n",
        "        return out\n",
        "\n",
        "\n",
        "# SimpleCNN architecture\n",
        "class SimpleCNN(nn.Module):\n",
        "    def __init__(self, num_classes=2):\n",
        "        super(SimpleCNN, self).__init__()\n",
        "        self.conv1 = nn.Conv2d(in_channels=1, out_channels=28, kernel_size=3, padding=1)\n",
        "        self.conv2 = nn.Conv2d(in_channels=28, out_channels=64, kernel_size=3, padding=1)\n",
        "        self.pool = nn.MaxPool2d(kernel_size=2, stride=2)\n",
        "        self.fc1 = nn.Linear(in_features=64*7*7, out_features=128)\n",
        "        self.fc2 = nn.Linear(in_features=128, out_features=num_classes)\n",
        "        self.relu = nn.ReLU()\n",
        "\n",
        "    def forward(self, x):\n",
        "        x = self.pool(self.relu(self.conv1(x)))\n",
        "        x = self.pool(self.relu(self.conv2(x)))\n",
        "        x = x.view(-1, 64*7*7) # this flattens the tensor for FC layer\n",
        "        x = self.relu(self.fc1(x))\n",
        "        x = self.fc2(x)\n",
        "        return x\n",
        "\n"
      ]
    },
    {
      "cell_type": "markdown",
      "metadata": {
        "id": "jhCHLdSxC_BC"
      },
      "source": [
        "Let's initialize our Federated Learning simulation and perform a demo training run to see how it all works together. Pay attention particularly to the 'gen_optimizer' and the 'criterion' functions. In our simulation, we are training locally, and because some optimizers, like Adam, leverage features like gradient history, we need to initialize our optimizers at the Client. To achieve this, we generate the optimizer locally when we train, which is slightly different from simply feeding in a PyTorch optimizer."
      ]
    },
    {
      "cell_type": "markdown",
      "metadata": {
        "id": "S6LEpGZS7D52"
      },
      "source": [
        "Instead of re-building the dataset everytime, we will just load in a pre-pickled Python object."
      ]
    },
    {
      "cell_type": "code",
      "execution_count": 9,
      "metadata": {
        "id": "2HTAXNQG7IOT"
      },
      "outputs": [],
      "source": [
        "import pickle\n",
        "\n",
        "# load in our pickled dataset\n",
        "with open(os.path.join(data_folder_name, \"train_dataset.pkl\"), 'rb') as f:\n",
        "    train_dataset = pickle.load(f)"
      ]
    },
    {
      "cell_type": "code",
      "execution_count": 63,
      "metadata": {
        "colab": {
          "base_uri": "https://localhost:8080/"
        },
        "id": "8I8xT1ydAi5t",
        "outputId": "8da3a7dd-6296-4ad1-f3cf-d5264620dcd2"
      },
      "outputs": [
        {
          "output_type": "stream",
          "name": "stdout",
          "text": [
            "---------- Setting up Federating Learning Environment ----------\n",
            "...\n",
            "---------- Finished Setting up Federating Learning Environment ----------\n",
            "\n",
            "Sent model to Client Hospital 1\n",
            "Begin local training at Client Hospital 1\n",
            "Training loss, running average over batches, at end of epoch 0 is 0.6013814806938171\n",
            "Training loss, running average over batches, at end of epoch 1 is 0.5231844186782837\n",
            "Training loss, running average over batches, at end of epoch 2 is 0.5099668502807617\n",
            "Training loss, running average over batches, at end of epoch 3 is 0.5085753798484802\n",
            "Training loss, running average over batches, at end of epoch 4 is 0.5080137848854065\n",
            "Training loss, running average over batches, at end of epoch 5 is 0.5073021054267883\n",
            "Training loss, running average over batches, at end of epoch 6 is 0.5067652463912964\n",
            "Training loss, running average over batches, at end of epoch 7 is 0.5061894059181213\n",
            "Training loss, running average over batches, at end of epoch 8 is 0.5057124495506287\n",
            "Training loss, running average over batches, at end of epoch 9 is 0.5051875710487366\n",
            "Training loss, running average over batches, at end of epoch 10 is 0.5046147108078003\n",
            "Training loss, running average over batches, at end of epoch 11 is 0.5042083859443665\n",
            "Training loss, running average over batches, at end of epoch 12 is 0.5035819411277771\n",
            "Training loss, running average over batches, at end of epoch 13 is 0.5030155777931213\n",
            "Training loss, running average over batches, at end of epoch 14 is 0.5025579333305359\n",
            "Training loss, running average over batches, at end of epoch 15 is 0.502082347869873\n",
            "Training loss, running average over batches, at end of epoch 16 is 0.5015040636062622\n",
            "Training loss, running average over batches, at end of epoch 17 is 0.5008496046066284\n",
            "Training loss, running average over batches, at end of epoch 18 is 0.5001916885375977\n",
            "Training loss, running average over batches, at end of epoch 19 is 0.4994327425956726\n",
            "Training loss, running average over batches, at end of epoch 20 is 0.4993411600589752\n",
            "Training loss, running average over batches, at end of epoch 21 is 0.4985794425010681\n",
            "Training loss, running average over batches, at end of epoch 22 is 0.4979725182056427\n",
            "Training loss, running average over batches, at end of epoch 23 is 0.49736037850379944\n",
            "Training loss, running average over batches, at end of epoch 24 is 0.4965737760066986\n",
            "Training loss, running average over batches, at end of epoch 25 is 0.4963386356830597\n",
            "Training loss, running average over batches, at end of epoch 26 is 0.49539807438850403\n",
            "Training loss, running average over batches, at end of epoch 27 is 0.4948757588863373\n",
            "Training loss, running average over batches, at end of epoch 28 is 0.4938602149486542\n",
            "Training loss, running average over batches, at end of epoch 29 is 0.49374404549598694\n",
            "Training loss, running average over batches, at end of epoch 30 is 0.4929540157318115\n",
            "Training loss, running average over batches, at end of epoch 31 is 0.492404580116272\n",
            "Training loss, running average over batches, at end of epoch 32 is 0.49157464504241943\n",
            "Training loss, running average over batches, at end of epoch 33 is 0.4903700649738312\n",
            "Training loss, running average over batches, at end of epoch 34 is 0.4906502962112427\n",
            "Training loss, running average over batches, at end of epoch 35 is 0.489175409078598\n",
            "Training loss, running average over batches, at end of epoch 36 is 0.48893827199935913\n",
            "Training loss, running average over batches, at end of epoch 37 is 0.4882684051990509\n",
            "Training loss, running average over batches, at end of epoch 38 is 0.48778536915779114\n",
            "Training loss, running average over batches, at end of epoch 39 is 0.4869895577430725\n",
            "Training loss, running average over batches, at end of epoch 40 is 0.48649346828460693\n",
            "Training loss, running average over batches, at end of epoch 41 is 0.4859154224395752\n",
            "Training loss, running average over batches, at end of epoch 42 is 0.48468852043151855\n",
            "Training loss, running average over batches, at end of epoch 43 is 0.4847122132778168\n",
            "Training loss, running average over batches, at end of epoch 44 is 0.48383548855781555\n",
            "Training loss, running average over batches, at end of epoch 45 is 0.48351895809173584\n",
            "Training loss, running average over batches, at end of epoch 46 is 0.483073890209198\n",
            "Training loss, running average over batches, at end of epoch 47 is 0.48273396492004395\n",
            "Training loss, running average over batches, at end of epoch 48 is 0.4821869134902954\n",
            "Training loss, running average over batches, at end of epoch 49 is 0.4812381863594055\n",
            "End of local training at Client Hospital 1\n",
            "------------------------------------------------------------------\n",
            "Sent model to Client Hospital 2\n",
            "Begin local training at Client Hospital 2\n",
            "Training loss, running average over batches, at end of epoch 0 is 0.4719030559062958\n",
            "Training loss, running average over batches, at end of epoch 1 is 0.47006887197494507\n",
            "Training loss, running average over batches, at end of epoch 2 is 0.4696347713470459\n",
            "Training loss, running average over batches, at end of epoch 3 is 0.4688069820404053\n",
            "Training loss, running average over batches, at end of epoch 4 is 0.4685588777065277\n",
            "Training loss, running average over batches, at end of epoch 5 is 0.4679376780986786\n",
            "Training loss, running average over batches, at end of epoch 6 is 0.4676791727542877\n",
            "Training loss, running average over batches, at end of epoch 7 is 0.4670180082321167\n",
            "Training loss, running average over batches, at end of epoch 8 is 0.4667946994304657\n",
            "Training loss, running average over batches, at end of epoch 9 is 0.46671852469444275\n",
            "Training loss, running average over batches, at end of epoch 10 is 0.4661056697368622\n",
            "Training loss, running average over batches, at end of epoch 11 is 0.46605783700942993\n",
            "Training loss, running average over batches, at end of epoch 12 is 0.4652097225189209\n",
            "Training loss, running average over batches, at end of epoch 13 is 0.4655753970146179\n",
            "Training loss, running average over batches, at end of epoch 14 is 0.4648821949958801\n",
            "Training loss, running average over batches, at end of epoch 15 is 0.4646992087364197\n",
            "Training loss, running average over batches, at end of epoch 16 is 0.46484363079071045\n",
            "Training loss, running average over batches, at end of epoch 17 is 0.46434590220451355\n",
            "Training loss, running average over batches, at end of epoch 18 is 0.46423089504241943\n",
            "Training loss, running average over batches, at end of epoch 19 is 0.46393874287605286\n",
            "Training loss, running average over batches, at end of epoch 20 is 0.4637969732284546\n",
            "Training loss, running average over batches, at end of epoch 21 is 0.4632652699947357\n",
            "Training loss, running average over batches, at end of epoch 22 is 0.4635065793991089\n",
            "Training loss, running average over batches, at end of epoch 23 is 0.4630822539329529\n",
            "Training loss, running average over batches, at end of epoch 24 is 0.46271398663520813\n",
            "Training loss, running average over batches, at end of epoch 25 is 0.46269020438194275\n",
            "Training loss, running average over batches, at end of epoch 26 is 0.4619910717010498\n",
            "Training loss, running average over batches, at end of epoch 27 is 0.4620323181152344\n",
            "Training loss, running average over batches, at end of epoch 28 is 0.461745023727417\n",
            "Training loss, running average over batches, at end of epoch 29 is 0.461737722158432\n",
            "Training loss, running average over batches, at end of epoch 30 is 0.4615306556224823\n",
            "Training loss, running average over batches, at end of epoch 31 is 0.46141791343688965\n",
            "Training loss, running average over batches, at end of epoch 32 is 0.4612295627593994\n",
            "Training loss, running average over batches, at end of epoch 33 is 0.4607463777065277\n",
            "Training loss, running average over batches, at end of epoch 34 is 0.4607204794883728\n",
            "Training loss, running average over batches, at end of epoch 35 is 0.46084165573120117\n",
            "Training loss, running average over batches, at end of epoch 36 is 0.4605673849582672\n",
            "Training loss, running average over batches, at end of epoch 37 is 0.46020084619522095\n",
            "Training loss, running average over batches, at end of epoch 38 is 0.4600583612918854\n",
            "Training loss, running average over batches, at end of epoch 39 is 0.45976051688194275\n",
            "Training loss, running average over batches, at end of epoch 40 is 0.45965996384620667\n",
            "Training loss, running average over batches, at end of epoch 41 is 0.45954641699790955\n",
            "Training loss, running average over batches, at end of epoch 42 is 0.45875272154808044\n",
            "Training loss, running average over batches, at end of epoch 43 is 0.4587862193584442\n",
            "Training loss, running average over batches, at end of epoch 44 is 0.4586644172668457\n",
            "Training loss, running average over batches, at end of epoch 45 is 0.45911651849746704\n",
            "Training loss, running average over batches, at end of epoch 46 is 0.4585619568824768\n",
            "Training loss, running average over batches, at end of epoch 47 is 0.45808660984039307\n",
            "Training loss, running average over batches, at end of epoch 48 is 0.4581634998321533\n",
            "Training loss, running average over batches, at end of epoch 49 is 0.45789507031440735\n",
            "End of local training at Client Hospital 2\n",
            "------------------------------------------------------------------\n",
            "Sent model to Client Hospital 3\n",
            "Begin local training at Client Hospital 3\n",
            "Training loss, running average over batches, at end of epoch 0 is 0.4769860804080963\n",
            "Training loss, running average over batches, at end of epoch 1 is 0.4767443537712097\n",
            "Training loss, running average over batches, at end of epoch 2 is 0.47590988874435425\n",
            "Training loss, running average over batches, at end of epoch 3 is 0.475540429353714\n",
            "Training loss, running average over batches, at end of epoch 4 is 0.4746827483177185\n",
            "Training loss, running average over batches, at end of epoch 5 is 0.47456273436546326\n",
            "Training loss, running average over batches, at end of epoch 6 is 0.47451430559158325\n",
            "Training loss, running average over batches, at end of epoch 7 is 0.4741421639919281\n",
            "Training loss, running average over batches, at end of epoch 8 is 0.4738331139087677\n",
            "Training loss, running average over batches, at end of epoch 9 is 0.47350016236305237\n",
            "Training loss, running average over batches, at end of epoch 10 is 0.47290199995040894\n",
            "Training loss, running average over batches, at end of epoch 11 is 0.4730498790740967\n",
            "Training loss, running average over batches, at end of epoch 12 is 0.47229498624801636\n",
            "Training loss, running average over batches, at end of epoch 13 is 0.47220322489738464\n",
            "Training loss, running average over batches, at end of epoch 14 is 0.4715023934841156\n",
            "Training loss, running average over batches, at end of epoch 15 is 0.47159719467163086\n",
            "Training loss, running average over batches, at end of epoch 16 is 0.4712052643299103\n",
            "Training loss, running average over batches, at end of epoch 17 is 0.47138142585754395\n",
            "Training loss, running average over batches, at end of epoch 18 is 0.4713749289512634\n",
            "Training loss, running average over batches, at end of epoch 19 is 0.4705492854118347\n",
            "Training loss, running average over batches, at end of epoch 20 is 0.4707406461238861\n",
            "Training loss, running average over batches, at end of epoch 21 is 0.470325767993927\n",
            "Training loss, running average over batches, at end of epoch 22 is 0.4707876443862915\n",
            "Training loss, running average over batches, at end of epoch 23 is 0.4698977470397949\n",
            "Training loss, running average over batches, at end of epoch 24 is 0.4696365296840668\n",
            "Training loss, running average over batches, at end of epoch 25 is 0.46826690435409546\n",
            "Training loss, running average over batches, at end of epoch 26 is 0.4694503843784332\n",
            "Training loss, running average over batches, at end of epoch 27 is 0.4690669775009155\n",
            "Training loss, running average over batches, at end of epoch 28 is 0.46850043535232544\n",
            "Training loss, running average over batches, at end of epoch 29 is 0.46838659048080444\n",
            "Training loss, running average over batches, at end of epoch 30 is 0.468433678150177\n",
            "Training loss, running average over batches, at end of epoch 31 is 0.46826428174972534\n",
            "Training loss, running average over batches, at end of epoch 32 is 0.46762681007385254\n",
            "Training loss, running average over batches, at end of epoch 33 is 0.4674207270145416\n",
            "Training loss, running average over batches, at end of epoch 34 is 0.46749526262283325\n",
            "Training loss, running average over batches, at end of epoch 35 is 0.4671189486980438\n",
            "Training loss, running average over batches, at end of epoch 36 is 0.46699070930480957\n",
            "Training loss, running average over batches, at end of epoch 37 is 0.4668980836868286\n",
            "Training loss, running average over batches, at end of epoch 38 is 0.46678853034973145\n",
            "Training loss, running average over batches, at end of epoch 39 is 0.46603402495384216\n",
            "Training loss, running average over batches, at end of epoch 40 is 0.46609801054000854\n",
            "Training loss, running average over batches, at end of epoch 41 is 0.46559959650039673\n",
            "Training loss, running average over batches, at end of epoch 42 is 0.4640497863292694\n",
            "Training loss, running average over batches, at end of epoch 43 is 0.4655764400959015\n",
            "Training loss, running average over batches, at end of epoch 44 is 0.46541711688041687\n",
            "Training loss, running average over batches, at end of epoch 45 is 0.46480366587638855\n",
            "Training loss, running average over batches, at end of epoch 46 is 0.46464306116104126\n",
            "Training loss, running average over batches, at end of epoch 47 is 0.4644836187362671\n",
            "Training loss, running average over batches, at end of epoch 48 is 0.46361812949180603\n",
            "Training loss, running average over batches, at end of epoch 49 is 0.4635941982269287\n",
            "End of local training at Client Hospital 3\n",
            "------------------------------------------------------------------\n",
            "Sent model to Client Hospital 4\n",
            "Begin local training at Client Hospital 4\n",
            "Training loss, running average over batches, at end of epoch 0 is 0.48238617181777954\n",
            "Training loss, running average over batches, at end of epoch 1 is 0.48249855637550354\n",
            "Training loss, running average over batches, at end of epoch 2 is 0.481601357460022\n",
            "Training loss, running average over batches, at end of epoch 3 is 0.4803142249584198\n",
            "Training loss, running average over batches, at end of epoch 4 is 0.481209933757782\n",
            "Training loss, running average over batches, at end of epoch 5 is 0.48210909962654114\n",
            "Training loss, running average over batches, at end of epoch 6 is 0.4808080792427063\n",
            "Training loss, running average over batches, at end of epoch 7 is 0.481344610452652\n",
            "Training loss, running average over batches, at end of epoch 8 is 0.482415109872818\n",
            "Training loss, running average over batches, at end of epoch 9 is 0.4820084869861603\n",
            "Training loss, running average over batches, at end of epoch 10 is 0.4791758954524994\n",
            "Training loss, running average over batches, at end of epoch 11 is 0.4792810380458832\n",
            "Training loss, running average over batches, at end of epoch 12 is 0.47852495312690735\n",
            "Training loss, running average over batches, at end of epoch 13 is 0.47701573371887207\n",
            "Training loss, running average over batches, at end of epoch 14 is 0.48088619112968445\n",
            "Training loss, running average over batches, at end of epoch 15 is 0.4782855808734894\n",
            "Training loss, running average over batches, at end of epoch 16 is 0.47743505239486694\n",
            "Training loss, running average over batches, at end of epoch 17 is 0.47854915261268616\n",
            "Training loss, running average over batches, at end of epoch 18 is 0.47820863127708435\n",
            "Training loss, running average over batches, at end of epoch 19 is 0.4787578582763672\n",
            "Training loss, running average over batches, at end of epoch 20 is 0.4774203896522522\n",
            "Training loss, running average over batches, at end of epoch 21 is 0.47775065898895264\n",
            "Training loss, running average over batches, at end of epoch 22 is 0.47866782546043396\n",
            "Training loss, running average over batches, at end of epoch 23 is 0.4762645959854126\n",
            "Training loss, running average over batches, at end of epoch 24 is 0.4763082265853882\n",
            "Training loss, running average over batches, at end of epoch 25 is 0.47637665271759033\n",
            "Training loss, running average over batches, at end of epoch 26 is 0.4787653088569641\n",
            "Training loss, running average over batches, at end of epoch 27 is 0.47629866003990173\n",
            "Training loss, running average over batches, at end of epoch 28 is 0.47621262073516846\n",
            "Training loss, running average over batches, at end of epoch 29 is 0.47873634099960327\n",
            "Training loss, running average over batches, at end of epoch 30 is 0.47561216354370117\n",
            "Training loss, running average over batches, at end of epoch 31 is 0.4753253757953644\n",
            "Training loss, running average over batches, at end of epoch 32 is 0.47636878490448\n",
            "Training loss, running average over batches, at end of epoch 33 is 0.47624385356903076\n",
            "Training loss, running average over batches, at end of epoch 34 is 0.47521817684173584\n",
            "Training loss, running average over batches, at end of epoch 35 is 0.47627606987953186\n",
            "Training loss, running average over batches, at end of epoch 36 is 0.4773537814617157\n",
            "Training loss, running average over batches, at end of epoch 37 is 0.4752931296825409\n",
            "Training loss, running average over batches, at end of epoch 38 is 0.4753384590148926\n",
            "Training loss, running average over batches, at end of epoch 39 is 0.47448328137397766\n",
            "Training loss, running average over batches, at end of epoch 40 is 0.4756547808647156\n",
            "Training loss, running average over batches, at end of epoch 41 is 0.47366878390312195\n",
            "Training loss, running average over batches, at end of epoch 42 is 0.4734077751636505\n",
            "Training loss, running average over batches, at end of epoch 43 is 0.4749418795108795\n",
            "Training loss, running average over batches, at end of epoch 44 is 0.47368788719177246\n",
            "Training loss, running average over batches, at end of epoch 45 is 0.477538526058197\n",
            "Training loss, running average over batches, at end of epoch 46 is 0.4727852940559387\n",
            "Training loss, running average over batches, at end of epoch 47 is 0.4731910824775696\n",
            "Training loss, running average over batches, at end of epoch 48 is 0.47645294666290283\n",
            "Training loss, running average over batches, at end of epoch 49 is 0.4722495377063751\n",
            "End of local training at Client Hospital 4\n",
            "------------------------------------------------------------------\n"
          ]
        }
      ],
      "source": [
        "# set a seed DO NOT change this\n",
        "random.seed(42)\n",
        "np.random.seed(42)\n",
        "torch.manual_seed(42)\n",
        "\n",
        "torch.cuda.manual_seed(42)\n",
        "torch.cuda.manual_seed_all(42)\n",
        "torch.backends.cudnn.deterministic = True\n",
        "torch.backends.cudnn.benchmark = False\n",
        "\n",
        "model = SimpleCNN()\n",
        "global_model = model\n",
        "\n",
        "\n",
        "client_names = ['Hospital 1', 'Hospital 2','Hospital 3', 'Hospital 4']\n",
        "data_weights = [0.25, 0.25, 0.25, 0.25]\n",
        "server, clients =  setup_federated_simulation_env(model = global_model, client_names = client_names, dataset = train_dataset, data_weights = data_weights, local_weight_ave = True)\n",
        "\n",
        "# Define optimizer and loss function\n",
        "def gen_optimizer(params, lr):\n",
        "    return torch.optim.SGD(params=params, lr=lr)\n",
        "\n",
        "def criterion(input, target):\n",
        "  loss_fn = torch.nn.CrossEntropyLoss()\n",
        "  return loss_fn(input, target)\n",
        "\n",
        "# Train using Federated Averaging\n",
        "server.train(clients, gen_optimizer, loss_fn = criterion, num_epochs=50, lr = 0.001) # can quickly see the effect of a large learning rate"
      ]
    },
    {
      "cell_type": "markdown",
      "metadata": {
        "id": "VZrkfDmXMKzb"
      },
      "source": [
        "# 📊 Evaluation"
      ]
    },
    {
      "cell_type": "markdown",
      "metadata": {
        "id": "vc_ycq-_MO7x"
      },
      "source": [
        "A focus of this competition is to learn about different metrics that are used in classification, to try mitigate bias or imbalances in data. Lets look at some more \"conventional\" metrics first."
      ]
    },
    {
      "cell_type": "markdown",
      "metadata": {
        "id": "fZ0pf2_pOS4c"
      },
      "source": [
        "When evaluating the performance of a binary classification model, several metrics are commonly used. Below, we explain and provide the formulas for some of these key metrics: Accuracy, Confusion Matrix, Sensitivity, and Specificity.\n",
        "\n",
        "## 1. Accuracy\n",
        "\n",
        "**Accuracy** is the ratio of correctly predicted instances to the total instances. It is a measure of the overall effectiveness of the classifier.\n",
        "\n",
        "**Formula:**\n",
        "\n",
        "$$ \\text{Accuracy} = \\frac{TP + TN}{TP + TN + FP + FN} $$\n",
        "\n",
        "Where:\n",
        "- \\( TP \\) = True Positives\n",
        "- \\( TN \\) = True Negatives\n",
        "- \\( FP \\) = False Positives\n",
        "- \\( FN \\) = False Negatives\n",
        "\n",
        "## 2. Confusion Matrix\n",
        "\n",
        "A **Confusion Matrix** is a table used to describe the performance of a classification model on a set of test data for which the true values are known. It allows the visualization of the performance of an algorithm.\n",
        "\n",
        "\n",
        "\\begin{array}{c|c|c}\n",
        "\\text{Actual / Predicted} & \\text{Positive} & \\text{Negative} \\\\\n",
        "\\hline\n",
        "\\text{Positive} & TP & FN \\\\\n",
        "\\text{Negative} & FP & TN \\\\\n",
        "\\end{array}\n",
        "\n",
        "\n",
        "## 3. Sensitivity (Recall)\n",
        "\n",
        "**Sensitivity**, also known as **Recall**, measures the proportion of actual positives that are correctly identified by the model. It focuses on the ability of the classifier to find all the positive samples.\n",
        "\n",
        "**Formula:**\n",
        "\n",
        "\n",
        "$$ \\text{Sensitivity} = \\frac{TP}{TP + FN} $$\n",
        "\n",
        "\n",
        "## 4. Specificity\n",
        "\n",
        "**Specificity** measures the proportion of actual negatives that are correctly identified by the model. It focuses on the ability of the classifier to find all the negative samples.\n",
        "\n",
        "**Formula:**\n",
        "\n",
        "\n",
        "$$ \\text{Specificity} = \\frac{TN}{TN + FP} $$\n",
        "\n",
        "\n",
        "## Summary\n",
        "\n",
        "These metrics help in understanding the performance of a binary classification model from different perspectives. While accuracy gives a general measure of performance, the confusion matrix provides a detailed breakdown, and sensitivity and specificity offer insights into how well the model performs on the positive and negative classes, respectively.\n"
      ]
    },
    {
      "cell_type": "code",
      "execution_count": 25,
      "metadata": {
        "id": "qXymqADVM4W2"
      },
      "outputs": [],
      "source": [
        "import torch\n",
        "import torch.nn.functional as F\n",
        "from torch.utils.data import DataLoader\n",
        "from collections import defaultdict\n",
        "from sklearn.metrics import roc_curve, auc\n",
        "import matplotlib.pyplot as plt\n",
        "from sklearn.preprocessing import label_binarize\n",
        "import numpy as np\n",
        "from sklearn.metrics import confusion_matrix\n",
        "import seaborn as sns\n",
        "\n",
        "import torch\n",
        "from torch.utils.data import DataLoader\n",
        "from sklearn.metrics import confusion_matrix\n",
        "\n",
        "def get_accuracy(validation_dataset, model, batch_size=128, device=torch.device('cuda' if torch.cuda.is_available() else 'cpu')):\n",
        "    \"\"\"\n",
        "    Computes overall accuracy for the given model on the validation dataset.\n",
        "\n",
        "    Parameters:\n",
        "    - validation_dataset: The MedMNIST validation dataset.\n",
        "    - model: The PyTorch model to be evaluated.\n",
        "    - batch_size: Batch size for DataLoader (default is 128).\n",
        "    - device: The device to run the evaluation on (default is CUDA if available).\n",
        "\n",
        "    Returns:\n",
        "    - overall_accuracy: The overall accuracy over the entire dataset.\n",
        "    \"\"\"\n",
        "    # Set model to evaluation mode\n",
        "    model.eval()\n",
        "    model.to(device)\n",
        "\n",
        "    # Create DataLoader for validation dataset\n",
        "    val_loader = DataLoader(validation_dataset, batch_size=batch_size, shuffle=False)\n",
        "\n",
        "    all_targets = []\n",
        "    all_outputs = []\n",
        "\n",
        "    with torch.no_grad():\n",
        "        for inputs, targets in val_loader:\n",
        "            inputs, targets = inputs.to(device), targets.to(device)\n",
        "            outputs = model(inputs)\n",
        "            all_outputs.append(outputs.cpu())\n",
        "            all_targets.append(targets.cpu())\n",
        "\n",
        "    all_outputs = torch.cat(all_outputs)\n",
        "    all_targets = torch.cat(all_targets)\n",
        "\n",
        "    # Compute overall accuracy\n",
        "    overall_accuracy = (all_outputs.argmax(dim=1) == all_targets).float().mean().item()\n",
        "\n",
        "    return overall_accuracy\n",
        "\n",
        "def get_confusion_matrix(validation_dataset, model, batch_size=128, device=torch.device('cuda' if torch.cuda.is_available() else 'cpu')):\n",
        "    \"\"\"\n",
        "    Computes and displays the confusion matrix for the given model on the validation dataset.\n",
        "\n",
        "    Parameters:\n",
        "    - validation_dataset: The MedMNIST validation dataset.\n",
        "    - model: The PyTorch model to be evaluated.\n",
        "    - batch_size: Batch size for DataLoader (default is 64).\n",
        "    - device: The device to run the evaluation on (default is CUDA if available).\n",
        "\n",
        "    Returns:\n",
        "    - cm: Confusion matrix\n",
        "    \"\"\"\n",
        "    # Set model to evaluation mode\n",
        "    model.eval()\n",
        "    model.to(device)\n",
        "\n",
        "    # Create DataLoader for validation dataset\n",
        "    val_loader = DataLoader(validation_dataset, batch_size=batch_size, shuffle=False)\n",
        "\n",
        "    all_targets = []\n",
        "    all_outputs = []\n",
        "\n",
        "    with torch.no_grad():\n",
        "        for inputs, targets in val_loader:\n",
        "            inputs, targets = inputs.to(device), targets.to(device)\n",
        "            outputs = model(inputs)\n",
        "            all_outputs.append(outputs.cpu())\n",
        "            all_targets.append(targets.cpu())\n",
        "\n",
        "    all_outputs = torch.cat(all_outputs)\n",
        "    all_targets = torch.cat(all_targets)\n",
        "    binarized_targets = (all_targets == 1).to(torch.int)\n",
        "    binarized_preds = (all_outputs.argmax(dim=1) == 1).to(torch.int)\n",
        "    cm = confusion_matrix(binarized_targets, binarized_preds)\n",
        "\n",
        "    # Plot confusion matrix\n",
        "    plt.figure(figsize=(6, 5))\n",
        "    sns.heatmap(cm, annot=True, fmt='d', cmap='Blues')\n",
        "    plt.xlabel('Predicted')\n",
        "    plt.ylabel('True')\n",
        "    plt.title(f'Confusion Matrix for Predicting Disease')\n",
        "    plt.show()\n",
        "\n",
        "    return cm\n",
        "\n",
        "def get_sensitivity(validation_dataset, model, batch_size=128, device=torch.device('cuda' if torch.cuda.is_available() else 'cpu')):\n",
        "    \"\"\"\n",
        "    Computes the sensitivity metric for the given model on the validation dataset.\n",
        "\n",
        "    Parameters:\n",
        "    - validation_dataset: The MedMNIST validation dataset.\n",
        "    - model: The PyTorch model to be evaluated.\n",
        "    - batch_size: Batch size for DataLoader (default is 1228).\n",
        "    - device: The device to run the evaluation on (default is CUDA if available).\n",
        "\n",
        "    Returns:\n",
        "    - sensitivity: The sensitivity metric.\n",
        "    \"\"\"\n",
        "    # Set model to evaluation mode\n",
        "    model.eval()\n",
        "    model.to(device)\n",
        "\n",
        "    # Create DataLoader for validation dataset\n",
        "    val_loader = DataLoader(validation_dataset, batch_size=batch_size, shuffle=False)\n",
        "\n",
        "    all_targets = []\n",
        "    all_outputs = []\n",
        "\n",
        "    with torch.no_grad():\n",
        "        for inputs, targets in val_loader:\n",
        "            inputs, targets = inputs.to(device), targets.to(device)\n",
        "            outputs = model(inputs)\n",
        "            all_outputs.append(outputs.cpu())\n",
        "            all_targets.append(targets.cpu())\n",
        "\n",
        "    all_outputs = torch.cat(all_outputs)\n",
        "    all_targets = torch.cat(all_targets)\n",
        "    binarized_targets = (all_targets == 1).to(torch.int)\n",
        "    binarized_preds = (all_outputs.argmax(dim=1) == 1).to(torch.int)\n",
        "    cm = confusion_matrix(binarized_targets, binarized_preds)\n",
        "\n",
        "    # Extract True Positives, False Positives, True Negatives, False Negatives\n",
        "    TP = cm[1, 1]\n",
        "    FP = cm[0, 1]\n",
        "    TN = cm[0, 0]\n",
        "    FN = cm[1, 0]\n",
        "\n",
        "    sensitivity = TP / (TP + FN) if (TP + FN) != 0 else 0\n",
        "    return sensitivity\n",
        "\n",
        "def get_specificity(validation_dataset, model, batch_size=128, device=torch.device('cuda' if torch.cuda.is_available() else 'cpu')):\n",
        "    \"\"\"\n",
        "    Computes the specificity metric for the given model on the validation dataset.\n",
        "\n",
        "    Parameters:\n",
        "    - validation_dataset: The MedMNIST validation dataset.\n",
        "    - model: The PyTorch model to be evaluated.\n",
        "    - batch_size: Batch size for DataLoader (default is 1228).\n",
        "    - device: The device to run the evaluation on (default is CUDA if available).\n",
        "\n",
        "    Returns:\n",
        "    - specificity: The specificity metric.\n",
        "    \"\"\"\n",
        "    # Set model to evaluation mode\n",
        "    model.eval()\n",
        "    model.to(device)\n",
        "\n",
        "    # Create DataLoader for validation dataset\n",
        "    val_loader = DataLoader(validation_dataset, batch_size=batch_size, shuffle=False)\n",
        "\n",
        "    all_targets = []\n",
        "    all_outputs = []\n",
        "\n",
        "    with torch.no_grad():\n",
        "        for inputs, targets in val_loader:\n",
        "            inputs, targets = inputs.to(device), targets.to(device)\n",
        "            outputs = model(inputs)\n",
        "            all_outputs.append(outputs.cpu())\n",
        "            all_targets.append(targets.cpu())\n",
        "\n",
        "    all_outputs = torch.cat(all_outputs)\n",
        "    all_targets = torch.cat(all_targets)\n",
        "    binarized_targets = (all_targets == 1).to(torch.int)\n",
        "    binarized_preds = (all_outputs.argmax(dim=1) == 1).to(torch.int)\n",
        "    cm = confusion_matrix(binarized_targets, binarized_preds)\n",
        "\n",
        "    # Extract True Positives, False Positives, True Negatives, False Negatives\n",
        "    TP = cm[1, 1]\n",
        "    FP = cm[0, 1]\n",
        "    TN = cm[0, 0]\n",
        "    FN = cm[1, 0]\n",
        "    specificity = TN / (TN + FP) if (TN + FP) != 0 else 0\n",
        "\n",
        "    return specificity\n"
      ]
    },
    {
      "cell_type": "markdown",
      "metadata": {
        "id": "S-Q7wh2cPq7V"
      },
      "source": [
        "Lets test this on one of our clients data."
      ]
    },
    {
      "cell_type": "code",
      "execution_count": 64,
      "metadata": {
        "colab": {
          "base_uri": "https://localhost:8080/"
        },
        "id": "xtMRvqQfPuH4",
        "outputId": "641eac3b-99ed-47c3-c8bf-a55a5ae76dbc"
      },
      "outputs": [
        {
          "output_type": "stream",
          "name": "stdout",
          "text": [
            "0.793367326259613 0.8099489808082581 0.8042091727256775 0.799490749835968\n"
          ]
        }
      ],
      "source": [
        "# lets get the accuracy\n",
        "client0_data_accuracy = get_accuracy(clients[0].data, server.global_model)\n",
        "client1_data_accuracy = get_accuracy(clients[1].data, server.global_model)\n",
        "client2_data_accuracy = get_accuracy(clients[2].data, server.global_model)\n",
        "client3_data_accuracy = get_accuracy(clients[3].data, server.global_model)\n",
        "print(client0_data_accuracy, client1_data_accuracy, client2_data_accuracy, client3_data_accuracy)"
      ]
    },
    {
      "cell_type": "markdown",
      "metadata": {
        "id": "DxNJ9NY1PySp"
      },
      "source": [
        "We have only trained our model for 5 epochs but we are already getting 79\\% accuracy. It appears that this is a fairly easy problem for us but before we simply run a few more epochs and close shop let's take a closer look by observing the 'confusion matrix'."
      ]
    },
    {
      "cell_type": "code",
      "execution_count": 27,
      "metadata": {
        "colab": {
          "base_uri": "https://localhost:8080/",
          "height": 522
        },
        "id": "DsKIWneZQQ-l",
        "outputId": "66c4d0c2-63e2-4952-fd95-98b9ea4612f9"
      },
      "outputs": [
        {
          "output_type": "display_data",
          "data": {
            "text/plain": [
              "<Figure size 600x500 with 2 Axes>"
            ],
            "image/png": "[encoded data removed]"
          },
          "metadata": {}
        },
        {
          "output_type": "execute_result",
          "data": {
            "text/plain": [
              "array([[1239,    4],\n",
              "       [ 320,    5]])"
            ]
          },
          "metadata": {},
          "execution_count": 27
        }
      ],
      "source": [
        "get_confusion_matrix(clients[0].data, clients[0].model)"
      ]
    },
    {
      "cell_type": "markdown",
      "metadata": {
        "id": "hhmiBsqtQUyp"
      },
      "source": [
        "This paints a clearer picture, even though our accuracy is high we can see that this is just a consequence of an imbalance in the data. You can see we do not predict a single diseased example of a lung correctly. The model is simply guessing \"healthy\" for every single sample (corresponding to a negative prediction for us). This is a common problem with metrics such as accuracy for data which is highly imbalanced. Let's take a look at the specificity and sensitivity metrics next."
      ]
    },
    {
      "cell_type": "code",
      "execution_count": 59,
      "metadata": {
        "colab": {
          "base_uri": "https://localhost:8080/"
        },
        "id": "bw01qOmIRPSS",
        "outputId": "e228cc36-8a75-4f97-f452-861decf50b43"
      },
      "outputs": [
        {
          "output_type": "stream",
          "name": "stdout",
          "text": [
            "The specificity for Hospital 1 is 0.9782783588093322\n",
            "The sensitivity for Hospital 1 is 0.05846153846153846\n"
          ]
        }
      ],
      "source": [
        "specificity = get_specificity(clients[0].data, clients[0].model)\n",
        "sensitivity = get_sensitivity(clients[0].data, clients[0].model)\n",
        "\n",
        "print(f'The specificity for {clients[0].id} is {specificity}')\n",
        "print(f'The sensitivity for {clients[0].id} is {sensitivity}')"
      ]
    },
    {
      "cell_type": "code",
      "source": [
        "client0_specificity = get_specificity(clients[0].data, server.global_model)\n",
        "client1_specificity = get_specificity(clients[1].data, server.global_model)\n",
        "client2_specificity = get_specificity(clients[2].data, server.global_model)\n",
        "client3_specificity = get_specificity(clients[3].data, server.global_model)\n",
        "\n",
        "client0_sensitivity = get_sensitivity(clients[0].data, server.global_model)\n",
        "client1_sensitivity = get_sensitivity(clients[1].data, server.global_model)\n",
        "client2_sensitivity = get_sensitivity(clients[2].data, server.global_model)\n",
        "client3_sensitivity = get_sensitivity(clients[3].data, server.global_model)\n",
        "\n",
        "\n",
        "print(client0_specificity, client1_specificity, client2_specificity, client3_specificity)\n",
        "print(client0_sensitivity, client1_sensitivity, client2_sensitivity, client3_sensitivity)"
      ],
      "metadata": {
        "id": "9GKM_pVWu2Fu",
        "outputId": "380e9cd4-bc2b-491d-fd7e-3dfd03624609",
        "colab": {
          "base_uri": "https://localhost:8080/"
        }
      },
      "execution_count": 65,
      "outputs": [
        {
          "output_type": "stream",
          "name": "stdout",
          "text": [
            "0.996781979082864 0.9968429360694554 0.996031746031746 0.9984\n",
            "0.015384615384615385 0.023255813953488372 0.01948051948051948 0.024922118380062305\n"
          ]
        }
      ]
    },
    {
      "cell_type": "markdown",
      "metadata": {
        "id": "few6RuX2Rtak"
      },
      "source": [
        "If you look up at the definitions this makes sense. Specificity is how many negative samples of the total number of negative samples we capture which is everything because our model simply predicts negative for everythig. Sensitivity takes a look at how many positive samples of the total positive samples we are able to capture. Idealy we would like some metrics that are able to account for these imbalances in a single metric."
      ]
    },
    {
      "cell_type": "markdown",
      "metadata": {
        "id": "S2EcmimjT5Yf"
      },
      "source": [
        "Let's introduce some new measures that are more robust and can better account for imbalances in data. These metrics and more recommendations can be found in this detailed Nature article [2]."
      ]
    },
    {
      "cell_type": "markdown",
      "metadata": {
        "id": "RW5B1p8QTCRC"
      },
      "source": [
        "## 5. Balanced Accuracy\n",
        "\n",
        "**Balanced Accuracy** is the average of sensitivity and specificity. It is useful when the classes are imbalanced.\n",
        "\n",
        "**Formula:**\n",
        "\n",
        "\n",
        "$$ \\text{Balanced Accuracy} = \\frac{\\text{Sensitivity} + \\text{Specificity}}{2} $$\n",
        "\n",
        "## 6. Area Under the Receiver Operating Characteristic Curve (AUROC)\n",
        "\n",
        "**AUROC** is a performance measurement for classification problems at various threshold settings. ROC is a probability curve, and AUROC represents the degree or measure of separability. It tells how much the model is capable of distinguishing between classes.\n",
        "\n",
        "### Receiver Operating Characteristic (ROC) Curve\n",
        "\n",
        "The **ROC Curve** is a graphical representation of the true positive rate (sensitivity) against the false positive rate (1-specificity) at various threshold settings (a threshold being a probablility value above which we consider a sample to belong to a certain class). It shows the trade-off between sensitivity and specificity.\n",
        "\n",
        "- **True Positive Rate (TPR)**: Same as Sensitivity\n",
        "- **False Positive Rate (FPR)**: $$ \\text{FPR} = \\frac{FP}{FP + TN} $$\n",
        "\n",
        "Each point on the curve corresponds to a FPR vs TPR for given probablity threshold [3].\n",
        "\n",
        "![ROCCurve.svg](data:image/svg+xml;base64,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)\n",
        "\n",
        "\n",
        "\n",
        "\n",
        "**AUROC** is the area under the ROC curve. The higher the AUROC, the better the model is at distinguishing between the positive and negative classes with perfect value of AUROC is 1. I know it can be quite tricky to grasp this concept if it is the first time you are seeing it. I would recommend reading this [blog](https://mlu-explain.github.io/roc-auc/) [4] which gives a pretty good explanation. It will also be more evident when looking at some concrete examples.\n",
        "\n",
        "\n",
        "## Summary 2\n",
        "\n",
        " Balanced accuracy and AUROC are metrics that are better adapted to dealing with imbalanced data. Balanced accuracy directly tackles the imbalance by averaging specificity and sensisitivity whilst AUROC assesses the model's overall ability to distinguish between classes i.e. how well it \"ranks\" the probabilities.\n"
      ]
    },
    {
      "cell_type": "markdown",
      "metadata": {
        "id": "oQgR4YEdWmvt"
      },
      "source": [
        "Let's take a look at an example"
      ]
    },
    {
      "cell_type": "code",
      "execution_count": 18,
      "metadata": {
        "id": "pk3zjxz-RC7H"
      },
      "outputs": [],
      "source": [
        "def get_balanced_accuracy(validation_dataset, model, batch_size=128, device=torch.device('cuda' if torch.cuda.is_available() else 'cpu')):\n",
        "    \"\"\"\n",
        "    Computes the balanced accuracy for the given model on the validation dataset.\n",
        "\n",
        "    Parameters:\n",
        "    - validation_dataset: The MedMNIST validation dataset.\n",
        "    - model: The PyTorch model to be evaluated.\n",
        "    - batch_size: Batch size for DataLoader (default is 1228).\n",
        "    - device: The device to run the evaluation on (default is CUDA if available).\n",
        "\n",
        "    Returns:\n",
        "    - balanced_accuracy: The average balanced accuracy over all classes.\n",
        "    \"\"\"\n",
        "    # Set model to evaluation mode\n",
        "    model.eval()\n",
        "    model.to(device)\n",
        "\n",
        "    # Create DataLoader for validation dataset\n",
        "    val_loader = DataLoader(validation_dataset, batch_size=batch_size, shuffle=False)\n",
        "\n",
        "    all_targets = []\n",
        "    all_outputs = []\n",
        "\n",
        "    with torch.no_grad():\n",
        "        for inputs, targets in val_loader:\n",
        "            inputs, targets = inputs.to(device), targets.to(device)\n",
        "            outputs = model(inputs)\n",
        "            all_outputs.append(outputs.cpu())\n",
        "            all_targets.append(targets.cpu())\n",
        "\n",
        "    all_outputs = torch.cat(all_outputs)\n",
        "    all_targets = torch.cat(all_targets)\n",
        "\n",
        "    binarized_targets = (all_targets == 1).to(torch.int)\n",
        "    binarized_preds = (all_outputs.argmax(dim=1) == 1).to(torch.int)\n",
        "    cm = confusion_matrix(binarized_targets, binarized_preds)\n",
        "\n",
        "    # Extract True Positives, False Positives, True Negatives, False Negatives\n",
        "    TP = cm[1, 1]\n",
        "    FP = cm[0, 1]\n",
        "    TN = cm[0, 0]\n",
        "    FN = cm[1, 0]\n",
        "\n",
        "    sensitivity = TP / (TP + FN) if (TP + FN) != 0 else 0\n",
        "    specificity = TN / (TN + FP) if (TN + FP) != 0 else 0\n",
        "    balanced_acc = (sensitivity + specificity) / 2\n",
        "\n",
        "\n",
        "    # balanced_accuracy = sum(class_balanced_accuracies) / num_classes\n",
        "    return balanced_acc\n",
        "\n",
        "# NB change the doc string here because you are no longer doing multi-class\n",
        "def get_auroc_plot_roc(validation_dataset, model, batch_size=128, device=torch.device(\"cuda\" if torch.cuda.is_available() else \"cpu\")):\n",
        "    \"\"\"\n",
        "    Calculate the AUROC and plot the ROC curve for a binary classification problem.\n",
        "\n",
        "    Parameters:\n",
        "    validation_dataset (Dataset): The validation dataset.\n",
        "    model (nn.Module): The trained model.\n",
        "    batch_size (int): The batch size for data loading.\n",
        "    device (str): The device to run the model on ('cpu' or 'cuda').\n",
        "\n",
        "    Returns:\n",
        "    roc_auc: AUROC value.\n",
        "    \"\"\"\n",
        "    # Set the model to evaluation mode\n",
        "    model.eval()\n",
        "\n",
        "    # Create a DataLoader for the validation dataset\n",
        "    val_loader = DataLoader(validation_dataset, batch_size=batch_size, shuffle=False)\n",
        "\n",
        "    # Lists to store true labels and predicted probabilities\n",
        "    all_labels = []\n",
        "    all_probs = []\n",
        "\n",
        "    # Disable gradient calculation for validation\n",
        "    with torch.no_grad():\n",
        "        for batch in val_loader:\n",
        "            # Move batch to the specified device\n",
        "            inputs, labels = batch\n",
        "            inputs, labels = inputs.to(device), labels.to(device)\n",
        "\n",
        "            # Get model outputs (logits)\n",
        "            logits = model(inputs)\n",
        "\n",
        "            # Apply softmax to get probabilities\n",
        "            probabilities = F.softmax(logits, dim=1)\n",
        "\n",
        "            # Store labels and probabilities\n",
        "            all_labels.append(labels.cpu().numpy())\n",
        "            all_probs.append(probabilities.cpu().numpy())\n",
        "\n",
        "    # Concatenate all batches\n",
        "    all_labels = np.concatenate(all_labels)\n",
        "    all_probs = np.concatenate(all_probs)\n",
        "    all_probs = all_probs[:,1] # you need to only look at a single class for this metric\n",
        "\n",
        "\n",
        "    # Calculate ROC curve and AUROC\n",
        "\n",
        "    plt.figure(figsize=(12, 8))\n",
        "    fpr, tpr, _ = roc_curve(all_labels, all_probs)\n",
        "    roc_auc = auc(fpr, tpr)\n",
        "\n",
        "    plt.plot(fpr, tpr, lw=2, label=f' ROC model predictor (area = {roc_auc:.2f})')\n",
        "\n",
        "    plt.plot([0, 1], [0, 1], 'k--', lw=2, label = 'ROC random predictor (area = 0.5)')\n",
        "    plt.xlim([0.0, 1.0])\n",
        "    plt.ylim([0.0, 1.05])\n",
        "    plt.xlabel('False Positive Rate')\n",
        "    plt.ylabel('True Positive Rate')\n",
        "    plt.title('Receiver Operating Characteristic (ROC) Curves')\n",
        "    plt.legend(loc='lower right')\n",
        "    plt.grid()\n",
        "    plt.show()\n",
        "    return roc_auc"
      ]
    },
    {
      "cell_type": "code",
      "execution_count": 61,
      "metadata": {
        "colab": {
          "base_uri": "https://localhost:8080/"
        },
        "id": "0OgrI1-qOMrH",
        "outputId": "913e5eba-7e4f-4886-88c0-e838bc1468b0"
      },
      "outputs": [
        {
          "output_type": "execute_result",
          "data": {
            "text/plain": [
              "0.5183699486354354"
            ]
          },
          "metadata": {},
          "execution_count": 61
        }
      ],
      "source": [
        "get_balanced_accuracy(clients[0].data, clients[0].model)"
      ]
    },
    {
      "cell_type": "code",
      "source": [
        "client0_balanced_accuracy = get_balanced_accuracy(clients[0].data, server.global_model)\n",
        "client1_balanced_accuracy = get_balanced_accuracy(clients[1].data, server.global_model)\n",
        "client2_balanced_accuracy = get_balanced_accuracy(clients[2].data, server.global_model)\n",
        "client3_balanced_accuracy = get_balanced_accuracy(clients[3].data, server.global_model)\n",
        "print(client0_balanced_accuracy, client1_balanced_accuracy, client2_balanced_accuracy, client3_balanced_accuracy)"
      ],
      "metadata": {
        "id": "3oV-95DGvfN7",
        "outputId": "83525d02-e78d-43b9-daae-34240408f146",
        "colab": {
          "base_uri": "https://localhost:8080/"
        }
      },
      "execution_count": 62,
      "outputs": [
        {
          "output_type": "stream",
          "name": "stdout",
          "text": [
            "0.5183699486354354 0.5143444503588407 0.5241702741702742 0.5331713395638629\n"
          ]
        }
      ]
    },
    {
      "cell_type": "markdown",
      "metadata": {
        "id": "Ikghx_8GXKvD"
      },
      "source": [
        "This is a much more reasonable metric, which reflects a \"truer\" performance of our model for our purposes. It is very easy to intuitivley see how we get this value. We get 100\\% of the negative label healthy samples but 0\\% of the positive label unhealthy samples so we are left with an average performance of 50\\%."
      ]
    },
    {
      "cell_type": "markdown",
      "metadata": {
        "id": "jGHosabyXN49"
      },
      "source": [
        "Now let's take a look at the ROC curve and the Area under this curve."
      ]
    },
    {
      "cell_type": "code",
      "execution_count": 30,
      "metadata": {
        "colab": {
          "base_uri": "https://localhost:8080/",
          "height": 686
        },
        "id": "iSrWaUc8XHnH",
        "outputId": "029cbb2a-a697-44c1-ac6e-363522b3b427"
      },
      "outputs": [
        {
          "output_type": "display_data",
          "data": {
            "text/plain": [
              "<Figure size 1200x800 with 1 Axes>"
            ],
            "image/png": "[encoded data removed]"
          },
          "metadata": {}
        },
        {
          "output_type": "execute_result",
          "data": {
            "text/plain": [
              "0.6810644223033603"
            ]
          },
          "metadata": {},
          "execution_count": 30
        }
      ],
      "source": [
        "get_auroc_plot_roc(clients[0].data, clients[0].model)"
      ]
    },
    {
      "cell_type": "markdown",
      "metadata": {
        "id": "3omytAYGXVTh"
      },
      "source": [
        "This also appears to give us a more \"sane\" performance metric as 0.60 is considerably less that the previous 0.79 we were getting with just accuracy.  "
      ]
    },
    {
      "cell_type": "markdown",
      "metadata": {
        "id": "oYL8B13fYHMR"
      },
      "source": [
        "Feel free to use these functions to help you assess the performance of your model as you make submissions to help guide you along your fine-tuning process."
      ]
    },
    {
      "cell_type": "code",
      "source": [
        "with mlflow.start_run() as run:\n",
        "  print(\"Logging Pytorch Model\")\n",
        "  mlflow.pytorch.log_model(\n",
        "      server.global_model, \"pytorch-model\", registered_model_name = \"SimpleCNN\"\n",
        "  )\n",
        "  model_uri = \"runs:/{}/pytorch-model\".format(run.info.run_id)\n",
        "  print(\"Model saved in run %s\" % run.info.run_id)\n",
        "  print(f\"Model URI : {model_uri}\")"
      ],
      "metadata": {
        "id": "b7h3O1h_qBVV",
        "outputId": "aba441f1-c879-4474-84e6-62a9b1a9e5f0",
        "colab": {
          "base_uri": "https://localhost:8080/"
        }
      },
      "execution_count": 41,
      "outputs": [
        {
          "output_type": "stream",
          "name": "stderr",
          "text": [
            "2024/07/26 15:35:07 WARNING mlflow.utils.requirements_utils: Found torch version (2.3.1+cu121) contains a local version label (+cu121). MLflow logged a pip requirement for this package as 'torch==2.3.1' without the local version label to make it installable from PyPI. To specify pip requirements containing local version labels, please use `conda_env` or `pip_requirements`.\n"
          ]
        },
        {
          "output_type": "stream",
          "name": "stdout",
          "text": [
            "Logging Pytorch Model\n"
          ]
        },
        {
          "output_type": "stream",
          "name": "stderr",
          "text": [
            "2024/07/26 15:35:14 WARNING mlflow.utils.requirements_utils: Found torch version (2.3.1+cu121) contains a local version label (+cu121). MLflow logged a pip requirement for this package as 'torch==2.3.1' without the local version label to make it installable from PyPI. To specify pip requirements containing local version labels, please use `conda_env` or `pip_requirements`.\n"
          ]
        },
        {
          "output_type": "stream",
          "name": "stdout",
          "text": [
            "Model saved in run dd028996818c4695aedb158025ed004c\n",
            "Model URI : runs:/dd028996818c4695aedb158025ed004c/pytorch-model\n"
          ]
        },
        {
          "output_type": "stream",
          "name": "stderr",
          "text": [
            "/usr/local/lib/python3.10/dist-packages/_distutils_hack/__init__.py:32: UserWarning: Setuptools is replacing distutils. Support for replacing an already imported distutils is deprecated. In the future, this condition will fail. Register concerns at https://github.com/pypa/setuptools/issues/new?template=distutils-deprecation.yml\n",
            "  warnings.warn(\n",
            "Successfully registered model 'SimpleCNN'.\n",
            "Created version '1' of model 'SimpleCNN'.\n"
          ]
        }
      ]
    },
    {
      "cell_type": "code",
      "source": [],
      "metadata": {
        "id": "7zvlDzbUr0wh"
      },
      "execution_count": 44,
      "outputs": []
    },
    {
      "cell_type": "markdown",
      "metadata": {
        "id": "_m543wxXZAub"
      },
      "source": [
        "# Kaggle Submission"
      ]
    },
    {
      "cell_type": "markdown",
      "metadata": {
        "id": "3Yuea1a7wu4T"
      },
      "source": [
        "Finally we need to create a submission for our Kaggle competition which will be a csv file containing the predictions of our test images. We first define some classes and functions to help with this."
      ]
    },
    {
      "cell_type": "code",
      "execution_count": 31,
      "metadata": {
        "id": "gKGCscqFMShm"
      },
      "outputs": [],
      "source": [
        "# from inspect import isgetsetdescriptor\n",
        "# Create a PyTorch Dataset\n",
        "class ChestMNISTDatasetTest(Dataset):\n",
        "    \"\"\"\n",
        "    This class is used to turn our dataset into a PyTorch-supported dataset.\n",
        "\n",
        "    Parameters:\n",
        "    - images: The images array from the MedMNIST dataset.\n",
        "    - labels: The corresponding labels array for each image.\n",
        "    - transform: Optional transformation to be applied to the images.\n",
        "    \"\"\"\n",
        "    def __init__(self, images, ids, transform=None):\n",
        "        self.images = images\n",
        "        self.ids = ids\n",
        "        self.transform = transform\n",
        "\n",
        "    def __len__(self):\n",
        "        return len(self.images)\n",
        "\n",
        "    def __getitem__(self, idx):\n",
        "        image = self.images[idx]\n",
        "        id = self.ids[idx]\n",
        "        if self.transform:\n",
        "            image = self.transform(image)\n",
        "        return image, id\n",
        "\n",
        "def build_test_dataset(img_dir, transform=None):\n",
        "    # run through img directory store images as np.array in images array. Simultaneously store labels in numpy array, using img2label. Then convert labels to tensor (or you can do this in the Dataset class).\n",
        "    print('---------- Building Test Dataset ----------')\n",
        "    images = []\n",
        "    ids = []\n",
        "    img_fnames = os.listdir(img_dir)\n",
        "    total_images = len(img_fnames)\n",
        "    step = total_images // 10  # 10% step\n",
        "\n",
        "    for i, img_fname in enumerate(img_fnames):\n",
        "        img_path = os.path.join(img_dir, img_fname)\n",
        "        img = np.array(Image.open(img_path))\n",
        "        id = img_fname\n",
        "        images.append(img)\n",
        "        ids.append(id)\n",
        "\n",
        "        # Print progress\n",
        "        if (i + 1) % step == 0:\n",
        "            progress = (i + 1) // step * 10\n",
        "            print(f'{\"-\" * (progress // 10)} {progress}% complete ')\n",
        "\n",
        "    print('---------- Finished Building Test Dataset ----------')\n",
        "    print()\n",
        "    return ChestMNISTDatasetTest(images, ids, transform=transform)\n",
        "\n",
        "import torch\n",
        "from torch.utils.data import DataLoader\n",
        "import pandas as pd\n",
        "\n",
        "\n",
        "def gen_test_df(global_model, test_dataset, device, batch_size=32):\n",
        "    # Set the model to evaluation mode\n",
        "    global_model.eval()\n",
        "\n",
        "    # Create a DataLoader for the test dataset\n",
        "    test_loader = DataLoader(test_dataset, batch_size=batch_size, shuffle=False)\n",
        "\n",
        "    # Lists to store ids and predicted labels\n",
        "    all_ids = []\n",
        "    all_outputs = []\n",
        "\n",
        "    total_batches = len(test_loader)\n",
        "    step = total_batches // 10  # 10% step\n",
        "\n",
        "    # Disable gradient calculation for evaluation\n",
        "    print('---------- Inference on Test Dataset ----------')\n",
        "    with torch.no_grad():\n",
        "        for i, batch in enumerate(test_loader):\n",
        "            # Move batch to the specified device\n",
        "            inputs, input_ids = batch\n",
        "            inputs = inputs.to(device)\n",
        "\n",
        "            # Get model outputs (logits)\n",
        "            logits = global_model(inputs)\n",
        "\n",
        "            # Get the predicted labels\n",
        "            predicted_labels = logits.argmax(dim=1).cpu().numpy()\n",
        "\n",
        "            # Append ids and outputs to lists\n",
        "            all_ids.extend(list(input_ids))\n",
        "            all_outputs.extend(predicted_labels)\n",
        "\n",
        "            # Print progress\n",
        "            if (i + 1) % step == 0:\n",
        "                progress = (i + 1) // step * 10\n",
        "                print(f'{\"-\" * (progress // 10)} {progress}% complete')\n",
        "    print('---------- Completed Inference on Test Dataset ----------')\n",
        "    print()\n",
        "    # Create a DataFrame with the ids and predicted labels\n",
        "    results_df = pd.DataFrame({\n",
        "        'ID': all_ids,\n",
        "        'label': all_outputs\n",
        "    })\n",
        "    results_df_sorted = results_df.sort_values(by=['ID'], ascending=True)\n",
        "    return results_df_sorted\n",
        "\n"
      ]
    },
    {
      "cell_type": "markdown",
      "metadata": {
        "id": "rq9l5AFvYyYo"
      },
      "source": [
        "Now we use the above to generate the csv which we will use to make our submission. We first load in our test dataset."
      ]
    },
    {
      "cell_type": "code",
      "execution_count": null,
      "metadata": {
        "colab": {
          "base_uri": "https://localhost:8080/"
        },
        "id": "bbBQ4rzAN0J9",
        "outputId": "e45b03e7-4185-45c3-a135-e05a1cdfc190"
      },
      "outputs": [
        {
          "name": "stdout",
          "output_type": "stream",
          "text": [
            "---------- Building Test Dataset ----------\n",
            "- 10% complete \n",
            "-- 20% complete \n",
            "--- 30% complete \n",
            "---- 40% complete \n",
            "----- 50% complete \n",
            "------ 60% complete \n",
            "------- 70% complete \n",
            "-------- 80% complete \n",
            "--------- 90% complete \n",
            "---------- 100% complete \n",
            "---------- Finished Building Test Dataset ----------\n",
            "\n"
          ]
        }
      ],
      "source": [
        "# preprocessing\n",
        "data_transform = transforms.Compose([\n",
        "    transforms.ToTensor(),\n",
        "    transforms.Normalize(mean=[.5], std=[.5])\n",
        "])\n",
        "\n",
        "test_dataset = build_test_dataset(test_img_dir, transform = data_transform)"
      ]
    },
    {
      "cell_type": "markdown",
      "metadata": {
        "id": "U40NxMgWAgMV"
      },
      "source": [
        "As before, for ease of use, we have the test_dataset pre-pickled so you can just load it in."
      ]
    },
    {
      "cell_type": "code",
      "execution_count": 32,
      "metadata": {
        "id": "xd9-9CduOKZb"
      },
      "outputs": [],
      "source": [
        "import pickle\n",
        "\n",
        "# load in pickled test dataset\n",
        "with open(os.path.join(data_folder_name, \"test_dataset.pkl\"), 'rb') as f:\n",
        "    test_dataset = pickle.load(f)"
      ]
    },
    {
      "cell_type": "markdown",
      "metadata": {
        "id": "dIRLwj4jAUCe"
      },
      "source": [
        " Now we use our test_dataset object and our global model to generate our .csv submission file. **Note** during the competition when you are making submission you can just keep re-running the below block there is nothing you need to change."
      ]
    },
    {
      "cell_type": "code",
      "execution_count": 33,
      "metadata": {
        "colab": {
          "base_uri": "https://localhost:8080/"
        },
        "id": "W8smq30MSAEh",
        "outputId": "757c85ce-bab9-4bee-c552-3be453c6d820"
      },
      "outputs": [
        {
          "output_type": "stream",
          "name": "stdout",
          "text": [
            "---------- Inference on Test Dataset ----------\n",
            "- 10% complete\n",
            "-- 20% complete\n",
            "--- 30% complete\n",
            "---- 40% complete\n",
            "----- 50% complete\n",
            "------ 60% complete\n",
            "------- 70% complete\n",
            "-------- 80% complete\n",
            "--------- 90% complete\n",
            "---------- 100% complete\n",
            "---------- Completed Inference on Test Dataset ----------\n",
            "\n"
          ]
        }
      ],
      "source": [
        "global_model = server.global_model\n",
        "device = server.device\n",
        "results_df = gen_test_df(global_model, test_dataset, device, batch_size=32)\n",
        "\n",
        "results_df.to_csv( os.path.join( data_folder_name, \"sample_submission.csv\"), index=False) # save csv the chosen directory."
      ]
    },
    {
      "cell_type": "markdown",
      "metadata": {
        "id": "HtUWeVNh2Xfb"
      },
      "source": [
        "And that's a wrap! You should have all the tools you need to start playing around with your own models and begin making your own submissions. Good luck!"
      ]
    },
    {
      "cell_type": "markdown",
      "metadata": {
        "id": "SXdF6A2wJxEp"
      },
      "source": [
        "# References\n",
        "[1]   **(FedAvg)** McMahan, B., Moore, E., Ramage, D., Hampson, S., & y Arcas, B. A. (2017, April). Communication-efficient learning of deep networks from decentralized data. In Artificial intelligence and statistics (pp. 1273-1282). PMLR.\n",
        "\n",
        "[2] Maier-Hein, L., Reinke, A., Godau, P. et al. Metrics reloaded: recommendations for image analysis validation. Nat Methods 21, 195–212 (2024). https://doi.org/10.1038/s41592-023-02151-z\n",
        "\n",
        "[3] Google. “Classification: ROC Curve and AUC  |  Machine Learning Crash Course.” Google Developers, 2019, developers.google.com/machine-learning/crash-course/classification/roc-and-auc.\n",
        "\n",
        "[4] Wilber, Jared. “ROC and AUC.” MLU-Explain, mlu-explain.github.io/roc-auc/.\n",
        "\n",
        "\n"
      ]
    }
  ],
  "metadata": {
    "colab": {
      "provenance": [],
      "gpuType": "T4",
      "include_colab_link": true
    },
    "kernelspec": {
      "display_name": "Python 3",
      "name": "python3"
    },
    "language_info": {
      "name": "python"
    },
    "accelerator": "GPU"
  },
  "nbformat": 4,
  "nbformat_minor": 0
}